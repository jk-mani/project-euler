{
 "cells": [
  {
   "cell_type": "markdown",
   "metadata": {},
   "source": [
    "![](problem_statements/E009.png)"
   ]
  },
  {
   "cell_type": "markdown",
   "metadata": {},
   "source": [
    "# Input"
   ]
  },
  {
   "cell_type": "code",
   "execution_count": 28,
   "metadata": {},
   "outputs": [
    {
     "name": "stdout",
     "output_type": "stream",
     "text": [
      "4\n"
     ]
    }
   ],
   "source": [
    "T = int(input().strip())"
   ]
  },
  {
   "cell_type": "code",
   "execution_count": 29,
   "metadata": {},
   "outputs": [
    {
     "name": "stdout",
     "output_type": "stream",
     "text": [
      "10\n",
      "100\n",
      "1000\n",
      "3000\n"
     ]
    }
   ],
   "source": [
    "N_list = []\n",
    "for _ in range(T):\n",
    "    N_list.append(int(input().strip()))"
   ]
  },
  {
   "cell_type": "markdown",
   "metadata": {},
   "source": [
    "# Unoptimized Solution\n",
    "\n",
    "For every $N$,  write a definition that will find all the Pythogorean triplets $a,b,c$ that satisfy\n",
    "\n",
    "$a+b+c = N$\n",
    "\n",
    "We can do this by exhastive search of the set of possible $a,b$, and testing if $c = N-a-b$ satisfies the condition\n",
    "\n",
    "$a^2 + b^2 = c^2$.\n",
    "\n",
    "We can constrain the search space a little. Without loss of generality, we can assume that $a<b$. At the lower limit for $a=0$, $b = c = N/2$\\\n",
    "At the higher limit for $a=b$, $a = b = N/(2+\\sqrt{2})$, $c = N/(1+\\sqrt{2})$.\n",
    "\n",
    "So we can search for $a$ from $1$ to $N/(2+\\sqrt{2})$, and $b$ from $a+1$ to $N/2$"
   ]
  },
  {
   "cell_type": "code",
   "execution_count": 30,
   "metadata": {},
   "outputs": [],
   "source": [
    "def get_pythogorean_triplets(num):\n",
    "    ans = []\n",
    "    \"Definition to get a list of all the Pythogorean triplets with perimeter num\"\n",
    "    for a in range(1,int(num/(2+2**0.5))+1):\n",
    "        for b in range(a+1,num//2+1):\n",
    "            c = num - a - b\n",
    "            if a*a + b*b==c*c:\n",
    "                ans.append((a,b,c))\n",
    "    return ans"
   ]
  },
  {
   "cell_type": "raw",
   "metadata": {},
   "source": [
    "'''\n",
    "for N in N_list:\n",
    "    all_triplets = get_pythogorean_triplets(N)\n",
    "    try:\n",
    "        a,b,c = max(all_triplets,key = lambda x:x[0]*x[1]*x[2])\n",
    "        ans = a*b*c\n",
    "    except ValueError:\n",
    "        ans = -1\n",
    "    print(ans)\n",
    "'''"
   ]
  },
  {
   "cell_type": "markdown",
   "metadata": {},
   "source": [
    "# Optimized Solution\n",
    "\n",
    "The above solution is of $O(N^2)$. We can reduce it to $O(n)$, by applying the constraint:\n",
    "\n",
    "$a^2 + b^2 = (N-(a+b))^2$\n",
    "\n",
    "or \n",
    "\n",
    "$2N(a+b) = N^2 + 2ab$\n",
    "\n",
    "or\n",
    "\n",
    "$b = \\frac{N(N - 2a)}{2(N - a)}$"
   ]
  },
  {
   "cell_type": "code",
   "execution_count": 31,
   "metadata": {},
   "outputs": [],
   "source": [
    "def get_pythogorean_triplets_optimized(num):\n",
    "    ans = []\n",
    "    \"Definition to get a list of all the Pythogorean triplets with perimeter num\"\n",
    "    for a in range(1,int(num/(2+2**0.5))+1):\n",
    "        b = num*(num - 2*a)/(2*(num-a))\n",
    "        if b%1==0:\n",
    "            b = round(b)\n",
    "            c = num - a - b\n",
    "            if a*a + b*b==c*c:\n",
    "                ans.append((a,b,c))\n",
    "    return ans"
   ]
  },
  {
   "cell_type": "code",
   "execution_count": 32,
   "metadata": {},
   "outputs": [
    {
     "name": "stdout",
     "output_type": "stream",
     "text": [
      "-1\n",
      "-1\n",
      "31875000\n",
      "937500000\n"
     ]
    }
   ],
   "source": [
    "for N in N_list:\n",
    "    all_triplets = get_pythogorean_triplets_optimized(N)\n",
    "    try:\n",
    "        a,b,c = max(all_triplets,key = lambda x:x[0]*x[1]*x[2])\n",
    "        ans = a*b*c\n",
    "    except ValueError:\n",
    "        ans = -1\n",
    "    print(ans)"
   ]
  },
  {
   "cell_type": "code",
   "execution_count": null,
   "metadata": {},
   "outputs": [],
   "source": []
  }
 ],
 "metadata": {
  "kernelspec": {
   "display_name": "Python 3",
   "language": "python",
   "name": "python3"
  },
  "language_info": {
   "codemirror_mode": {
    "name": "ipython",
    "version": 3
   },
   "file_extension": ".py",
   "mimetype": "text/x-python",
   "name": "python",
   "nbconvert_exporter": "python",
   "pygments_lexer": "ipython3",
   "version": "3.7.7"
  }
 },
 "nbformat": 4,
 "nbformat_minor": 4
}
