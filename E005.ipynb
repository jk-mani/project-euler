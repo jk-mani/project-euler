{
 "cells": [
  {
   "cell_type": "markdown",
   "metadata": {},
   "source": [
    "![](problem_statements/E005.png)"
   ]
  },
  {
   "cell_type": "markdown",
   "metadata": {},
   "source": [
    "# Input\n",
    "\n",
    "Input the number of test cases $T$, and all the numbers in a list of length $T$"
   ]
  },
  {
   "cell_type": "code",
   "execution_count": 1,
   "metadata": {},
   "outputs": [
    {
     "name": "stdout",
     "output_type": "stream",
     "text": [
      "3\n"
     ]
    }
   ],
   "source": [
    "T = int(input().strip())"
   ]
  },
  {
   "cell_type": "code",
   "execution_count": 2,
   "metadata": {},
   "outputs": [
    {
     "name": "stdout",
     "output_type": "stream",
     "text": [
      "3\n",
      "10\n",
      "39\n"
     ]
    }
   ],
   "source": [
    "N_list = []\n",
    "for _ in range(T):\n",
    "    N_list.append(int(input().strip()))"
   ]
  },
  {
   "cell_type": "markdown",
   "metadata": {},
   "source": [
    "# Steps\n",
    "\n",
    "For any given number $N$, first list all the prime factors that are <=$N$ (in this case we have $N$ bounded by 40, so we can simply list the possible prime factors by inspection, otherwise we would need to calculate them). Now, for each prime $p$, find the maximum exponent of $p$ that will satisfy $p^e<=N$. This will be the exponent of $p$ that will go into the HCF. Now simply multiply all the primes raised to the corresponding exponents."
   ]
  },
  {
   "cell_type": "code",
   "execution_count": 3,
   "metadata": {},
   "outputs": [],
   "source": [
    "primes_list = [2,3,5,7,11,13,17,19,23,29,31,37,39]"
   ]
  },
  {
   "cell_type": "code",
   "execution_count": 4,
   "metadata": {},
   "outputs": [],
   "source": [
    "def get_exponents(num):\n",
    "    \"Function to get the exponents of al the primes <= num\"\n",
    "    exponents = []\n",
    "    for p in primes_list:\n",
    "        e = 0\n",
    "        while p**(e+1)<=num:\n",
    "            e += 1\n",
    "        exponents.append(e)\n",
    "    return exponents"
   ]
  },
  {
   "cell_type": "code",
   "execution_count": 5,
   "metadata": {},
   "outputs": [],
   "source": [
    "#Onnce we have the expoments for the corresponding primes, function to multiply them...\n",
    "def multiply(primes,exponents):\n",
    "    ans = 1\n",
    "    for p,e in zip(primes,exponents):\n",
    "        ans *= p**e\n",
    "    return ans"
   ]
  },
  {
   "cell_type": "markdown",
   "metadata": {},
   "source": [
    "# Result"
   ]
  },
  {
   "cell_type": "code",
   "execution_count": 6,
   "metadata": {},
   "outputs": [
    {
     "name": "stdout",
     "output_type": "stream",
     "text": [
      "6\n",
      "2520\n",
      "208374326825464800\n"
     ]
    }
   ],
   "source": [
    "#Now, calculate the LCMs for the numbers in N_list\n",
    "for n in N_list:\n",
    "    exponents = get_exponents(n)\n",
    "    ans = multiply(primes_list,exponents)\n",
    "    print(ans)"
   ]
  }
 ],
 "metadata": {
  "kernelspec": {
   "display_name": "Python 3",
   "language": "python",
   "name": "python3"
  },
  "language_info": {
   "codemirror_mode": {
    "name": "ipython",
    "version": 3
   },
   "file_extension": ".py",
   "mimetype": "text/x-python",
   "name": "python",
   "nbconvert_exporter": "python",
   "pygments_lexer": "ipython3",
   "version": "3.7.7"
  }
 },
 "nbformat": 4,
 "nbformat_minor": 4
}
