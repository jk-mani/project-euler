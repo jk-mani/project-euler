{
 "cells": [
  {
   "cell_type": "markdown",
   "metadata": {},
   "source": [
    "![](problem_statements/E023.png)"
   ]
  },
  {
   "cell_type": "markdown",
   "metadata": {},
   "source": [
    "# Input"
   ]
  },
  {
   "cell_type": "code",
   "execution_count": 1,
   "metadata": {},
   "outputs": [
    {
     "name": "stdout",
     "output_type": "stream",
     "text": [
      "3\n"
     ]
    }
   ],
   "source": [
    "T = int(input().strip())"
   ]
  },
  {
   "cell_type": "code",
   "execution_count": 2,
   "metadata": {},
   "outputs": [
    {
     "name": "stdout",
     "output_type": "stream",
     "text": [
      "1000\n",
      "2000\n",
      "3000\n"
     ]
    }
   ],
   "source": [
    "N_list = []\n",
    "for _  in range(T):\n",
    "    N_list.append(int(input().strip()))"
   ]
  },
  {
   "cell_type": "markdown",
   "metadata": {},
   "source": [
    "# Steps\n",
    "Let's get the sum of proper divisors for each number less than max(*N_list*)"
   ]
  },
  {
   "cell_type": "code",
   "execution_count": 3,
   "metadata": {},
   "outputs": [],
   "source": [
    "def get_primes(num):\n",
    "    \"Return a list of all primes <= N\"\n",
    "    \n",
    "    #Start with the initialization of all numbers from 1 to num as prime=True\n",
    "    prime = [True if i>=2 else False for i in range(num + 1)]\n",
    "    \n",
    "    #Now, run a index from 2 to sqrt(num)\n",
    "    i = 2\n",
    "    while i*i<=num:\n",
    "        #If i is prime, all multiples of i which are <=num will be composite...\n",
    "        if prime[i]:\n",
    "            for j in range(i*2,num+1,i):\n",
    "                prime[j]=False\n",
    "        i+=1\n",
    "    #Now, list all the primes - i.e. all n such that prime[n]==True\n",
    "    ans = []\n",
    "    for i in range(num+1):\n",
    "        if prime[i]:\n",
    "            ans.append(i)\n",
    "    return ans"
   ]
  },
  {
   "cell_type": "code",
   "execution_count": 14,
   "metadata": {},
   "outputs": [],
   "source": [
    "primes_list = get_primes(max(N_list))"
   ]
  },
  {
   "cell_type": "code",
   "execution_count": 15,
   "metadata": {},
   "outputs": [],
   "source": [
    "from collections import Counter\n",
    "def get_prime_factors(num):\n",
    "    \"Return all the prime factors of num, with a counter of number of times it is divided by each prime\"\n",
    "    ans = Counter()\n",
    "    n = num\n",
    "    for p in primes_list:\n",
    "        if p>int(num**0.5):\n",
    "            break\n",
    "        while n%p==0:\n",
    "            ans[p] += 1\n",
    "            n//=p\n",
    "    #If there's a remaining factor...\n",
    "    if n>1:\n",
    "        ans[n] += 1\n",
    "    return ans"
   ]
  },
  {
   "cell_type": "code",
   "execution_count": 16,
   "metadata": {},
   "outputs": [],
   "source": [
    "from itertools import product\n",
    "def get_proper_divisors(num):\n",
    "    \"List all the proper divisors of num\"\n",
    "    prime_factors = get_prime_factors(num)\n",
    "    exp_list = product(*[tuple(range(v+1)) for v in prime_factors.values()])\n",
    "    ans = []\n",
    "    for exp in exp_list:\n",
    "        prod=1\n",
    "        for b,e in zip(prime_factors.keys(),exp):\n",
    "            prod *= b**e\n",
    "        ans.append(prod)\n",
    "    #Remove the number itself...\n",
    "    ans.remove(num)\n",
    "    return ans"
   ]
  },
  {
   "cell_type": "code",
   "execution_count": 17,
   "metadata": {},
   "outputs": [],
   "source": [
    "sum_proper_divisors = {}\n",
    "for n in range(1,max(N_list)+1):\n",
    "    sum_proper_divisors[n] = sum(get_proper_divisors(n))"
   ]
  },
  {
   "cell_type": "markdown",
   "metadata": {},
   "source": [
    "Let's now list all the abundant numbers that we will need"
   ]
  },
  {
   "cell_type": "code",
   "execution_count": 18,
   "metadata": {},
   "outputs": [],
   "source": [
    "abundant_numbers = []\n",
    "for num in range(1,max(N_list)+1):\n",
    "    if sum_proper_divisors[num] > num:\n",
    "        abundant_numbers.append(num)"
   ]
  },
  {
   "cell_type": "markdown",
   "metadata": {},
   "source": [
    "Now, a definition to check if a number can be written as a sum of two abundant numbers..."
   ]
  },
  {
   "cell_type": "code",
   "execution_count": 27,
   "metadata": {},
   "outputs": [],
   "source": [
    "def binary_search(item,sorted_list):\n",
    "    \"Function to return the position of the item in sorted_list, if it exists in sorted_list\"\n",
    "    start,end = 0,len(sorted_list)-1\n",
    "    while start<=end:\n",
    "        midpoint = (start+end)//2\n",
    "        if item==sorted_list[midpoint]:\n",
    "            return midpoint\n",
    "        elif item<sorted_list[midpoint]:\n",
    "            end = midpoint - 1\n",
    "        elif item>sorted_list[midpoint]:\n",
    "            start = midpoint + 1"
   ]
  },
  {
   "cell_type": "code",
   "execution_count": 26,
   "metadata": {},
   "outputs": [],
   "source": [
    "def get_solution(num):\n",
    "    index = 0\n",
    "    while index<len(abundant_numbers) and abundant_numbers[index]<num:\n",
    "        chk = binary_search(num - abundant_numbers[index],abundant_numbers)\n",
    "        if type(chk)==int:\n",
    "            return \"YES\"\n",
    "        index += 1\n",
    "    else:\n",
    "        return \"NO\""
   ]
  },
  {
   "cell_type": "markdown",
   "metadata": {},
   "source": [
    "# Solution"
   ]
  },
  {
   "cell_type": "code",
   "execution_count": 25,
   "metadata": {},
   "outputs": [
    {
     "name": "stdout",
     "output_type": "stream",
     "text": [
      "YES\n",
      "YES\n",
      "YES\n",
      "YES\n"
     ]
    }
   ],
   "source": [
    "for N in N_list:\n",
    "    print(get_solution(N))"
   ]
  },
  {
   "cell_type": "code",
   "execution_count": null,
   "metadata": {},
   "outputs": [],
   "source": []
  }
 ],
 "metadata": {
  "kernelspec": {
   "display_name": "Python 3",
   "language": "python",
   "name": "python3"
  },
  "language_info": {
   "codemirror_mode": {
    "name": "ipython",
    "version": 3
   },
   "file_extension": ".py",
   "mimetype": "text/x-python",
   "name": "python",
   "nbconvert_exporter": "python",
   "pygments_lexer": "ipython3",
   "version": "3.7.7"
  }
 },
 "nbformat": 4,
 "nbformat_minor": 4
}
