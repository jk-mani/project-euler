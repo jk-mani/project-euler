{
 "cells": [
  {
   "cell_type": "markdown",
   "metadata": {},
   "source": [
    "![](problem_statements/E041.png)"
   ]
  },
  {
   "cell_type": "markdown",
   "metadata": {},
   "source": [
    "# Input"
   ]
  },
  {
   "cell_type": "code",
   "execution_count": 53,
   "metadata": {},
   "outputs": [
    {
     "name": "stdout",
     "output_type": "stream",
     "text": [
      "2\n"
     ]
    }
   ],
   "source": [
    "T = int(input().strip())"
   ]
  },
  {
   "cell_type": "code",
   "execution_count": 54,
   "metadata": {},
   "outputs": [
    {
     "name": "stdout",
     "output_type": "stream",
     "text": [
      "1000000\n",
      "999999999\n"
     ]
    }
   ],
   "source": [
    "N_list = []\n",
    "for _ in range(T):\n",
    "    N_list.append(int(input().strip()))"
   ]
  },
  {
   "cell_type": "markdown",
   "metadata": {},
   "source": [
    "# Steps\n",
    "\n",
    "First, let's have a definition which will check for primality for all number $<10^{10}$. Use Sieve of Eratosthenes for upto $10^5$ and then test for factors beyond that."
   ]
  },
  {
   "cell_type": "code",
   "execution_count": 55,
   "metadata": {},
   "outputs": [],
   "source": [
    "def get_primes(num):\n",
    "    \"Return a list of all primes <= N\"\n",
    "    \n",
    "    #Start with the initialization of all numbers from 1 to num as prime=True\n",
    "    prime = [True if i>=2 else False for i in range(num + 1)]\n",
    "    \n",
    "    #Now, run a index from 2 to sqrt(num)\n",
    "    i = 2\n",
    "    while i*i<=num:\n",
    "        #If i is prime, all multiples of i which are <=num will be composite...\n",
    "        if prime[i]:\n",
    "            for j in range(i*2,num+1,i):\n",
    "                prime[j]=False\n",
    "        i+=1\n",
    "    #Now, list all the primes - i.e. all n such that prime[n]==True\n",
    "    ans = []\n",
    "    for i in range(num+1):\n",
    "        if prime[i]:\n",
    "            ans.append(i)\n",
    "    return ans"
   ]
  },
  {
   "cell_type": "code",
   "execution_count": 56,
   "metadata": {},
   "outputs": [],
   "source": [
    "primes_list = get_primes(10**5)"
   ]
  },
  {
   "cell_type": "code",
   "execution_count": 57,
   "metadata": {},
   "outputs": [],
   "source": [
    "def search_primes(item):\n",
    "    \"Search primes_list if item is prime\"\n",
    "    start,end = 0,len(primes_list)-1\n",
    "    while start<=end:\n",
    "        midpoint = (start+end)//2\n",
    "        if item==primes_list[midpoint]:\n",
    "            return True\n",
    "        elif item<primes_list[midpoint]:\n",
    "            end = midpoint - 1\n",
    "        elif item>primes_list[midpoint]:\n",
    "            start = midpoint + 1\n",
    "    else:\n",
    "        return False"
   ]
  },
  {
   "cell_type": "code",
   "execution_count": 58,
   "metadata": {},
   "outputs": [],
   "source": [
    "def check_prime(num):\n",
    "    if num<10**5:\n",
    "        return search_primes(num)\n",
    "    elif num<10**10:\n",
    "        for p in primes_list:\n",
    "            if p>int(num**0.5)+1:\n",
    "                break\n",
    "            if num%p==0:\n",
    "                return False\n",
    "        return True"
   ]
  },
  {
   "cell_type": "markdown",
   "metadata": {},
   "source": [
    "Take the largest number in N_list, and generate all the pandigital numbers less than that."
   ]
  },
  {
   "cell_type": "code",
   "execution_count": 59,
   "metadata": {},
   "outputs": [],
   "source": [
    "N_MAX = max(N_list)\n",
    "D_MAX = len(str(N_MAX))\n",
    "digits = [str(x) for x in range(1,10)]"
   ]
  },
  {
   "cell_type": "markdown",
   "metadata": {},
   "source": [
    "First, we note that the rule fr divisibility by 3 is that the sum of the digits is divisible by 3. Since the sum of the digits of an $N$ digit pandigital number is $\\frac{N(N+1)}{2}$, this will not be divisible by 3 only if \n",
    "\n",
    "$N \\mod 3=1$.\n",
    "\n",
    "Thus we need to consider only $4-$ digit and $7-$ digit numbers."
   ]
  },
  {
   "cell_type": "code",
   "execution_count": 60,
   "metadata": {},
   "outputs": [],
   "source": [
    "from itertools import permutations\n",
    "pandigital_primes = []\n",
    "for d in range(4,D_MAX+1,3):\n",
    "    pandigital_primes.extend([x for x in map(\n",
    "        lambda x:int(''.join(x)),permutations(digits[:d])) if check_prime(x) and (x<N_MAX)])"
   ]
  },
  {
   "cell_type": "markdown",
   "metadata": {},
   "source": [
    "Now, write a binary seach code to find the smallest pandigital prime $<=$ the input"
   ]
  },
  {
   "cell_type": "code",
   "execution_count": 82,
   "metadata": {},
   "outputs": [],
   "source": [
    "def smallest_pp_le(num):\n",
    "    start,end = 0,len(pandigital_primes)-1\n",
    "    while start<=end:\n",
    "        midpoint = (start+end)//2\n",
    "        if num==pandigital_primes[midpoint]:\n",
    "            return pandigital_primes[midpoint]\n",
    "        elif num<pandigital_primes[midpoint]:\n",
    "            end = midpoint - 1\n",
    "        elif num>pandigital_primes[midpoint]:\n",
    "            start = midpoint + 1\n",
    "    else:\n",
    "        return (pandigital_primes[end] if end>=0 else -1)"
   ]
  },
  {
   "cell_type": "markdown",
   "metadata": {},
   "source": [
    "# Solution"
   ]
  },
  {
   "cell_type": "code",
   "execution_count": 80,
   "metadata": {},
   "outputs": [
    {
     "name": "stdout",
     "output_type": "stream",
     "text": [
      "4231\n",
      "7652413\n"
     ]
    }
   ],
   "source": [
    "for N in N_list:\n",
    "    print(smallest_pp_le(N))"
   ]
  },
  {
   "cell_type": "code",
   "execution_count": null,
   "metadata": {},
   "outputs": [],
   "source": []
  }
 ],
 "metadata": {
  "kernelspec": {
   "display_name": "Python 3",
   "language": "python",
   "name": "python3"
  },
  "language_info": {
   "codemirror_mode": {
    "name": "ipython",
    "version": 3
   },
   "file_extension": ".py",
   "mimetype": "text/x-python",
   "name": "python",
   "nbconvert_exporter": "python",
   "pygments_lexer": "ipython3",
   "version": "3.7.7"
  }
 },
 "nbformat": 4,
 "nbformat_minor": 4
}
