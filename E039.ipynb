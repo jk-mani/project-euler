{
 "cells": [
  {
   "cell_type": "markdown",
   "metadata": {},
   "source": [
    "![](problem_statements/E039.png)"
   ]
  },
  {
   "cell_type": "markdown",
   "metadata": {},
   "source": [
    "# Input"
   ]
  },
  {
   "cell_type": "code",
   "execution_count": 1,
   "metadata": {},
   "outputs": [
    {
     "name": "stdout",
     "output_type": "stream",
     "text": [
      "3\n"
     ]
    }
   ],
   "source": [
    "T = int(input().strip())"
   ]
  },
  {
   "cell_type": "code",
   "execution_count": 2,
   "metadata": {},
   "outputs": [
    {
     "name": "stdout",
     "output_type": "stream",
     "text": [
      "12\n",
      "80\n",
      "120\n"
     ]
    }
   ],
   "source": [
    "N_list = []\n",
    "for _ in range(T):\n",
    "    N_list.append(int(input().strip()))"
   ]
  },
  {
   "cell_type": "code",
   "execution_count": 3,
   "metadata": {},
   "outputs": [],
   "source": [
    "MAX_P = max(N_list)"
   ]
  },
  {
   "cell_type": "markdown",
   "metadata": {},
   "source": [
    "# Steps\n",
    "\n",
    "## Limits on the numbers\n",
    "For a pythogorean triplet $a,b,c$ we can assume $a<b<c$ without loss of generality. For any given perimeter $p$, these are the limits on $a,b,c$:\n",
    "\n",
    "$a \\in \\big[3, p/(2+\\sqrt{2}) \\big)$ (as the smallest Pythogorean triplet is $\\{3,4,5\\}$)\n",
    "\n",
    "$b \\in \\big[a+1, p/2\\big)$\n",
    "\n",
    "$c \\in \\big[b+1, p/2\\big)$\n",
    "\n",
    "Considering that $p$ can go upto $\\text{MAX_P}$, we can search for $a,b,c$ in the following space:\n",
    "\n",
    "$a \\in \\big[3,\\text{MAX_P}/(2+\\sqrt{2})\\big)$\n",
    "\n",
    "$b \\in \\big[4,\\text{MAX_P}/2\\big)$\n",
    "\n",
    "$c \\in [5, \\text{MAX_P}/2\\big)$"
   ]
  },
  {
   "cell_type": "markdown",
   "metadata": {},
   "source": [
    "## Euclid's formula\n",
    "Now, let's use Euclid's formula for primitive Pythogorean triplets\n",
    "\n",
    "https://en.wikipedia.org/wiki/Pythagorean_triple#Generating_a_triple\n",
    "\n",
    "$a = m^2 - n^2, b = 2mn, c = m^2+n^2$\n",
    "\n",
    "for $m>n$ and $m,n$ being coprime and not both odd. Eacn pair $m,n$ will create a unique primitve Pyhogorean triple. Let's fid out what limits we can place on $m,n$. Given that $b = 2mn \\geq 2n^2$, we can see that\n",
    "\n",
    "$n \\leq \\sqrt{\\text{MAX_P}}/2$. For his value of $n$, we can search all $m$, ensuring that the perimeter \n",
    "\n",
    "$p = a+b+c = 2m(m+n) <= \\text{MAX_P}$. So for smallest $n$, we have the largest allowed value of $m$\n",
    "\n",
    "$m \\leq \\sqrt{\\text{MAX_P}/2}$."
   ]
  },
  {
   "cell_type": "markdown",
   "metadata": {},
   "source": [
    "## Co-prime calculation\n",
    "\n",
    "Let's write a definition to check if two numbers are co-prime. First generate the list of prime numbers."
   ]
  },
  {
   "cell_type": "code",
   "execution_count": 4,
   "metadata": {},
   "outputs": [],
   "source": [
    "def get_primes(num):\n",
    "    \"Return a list of all primes <= N\"\n",
    "    \n",
    "    #Start with the initialization of all numbers from 1 to num as prime=True\n",
    "    prime = [True if i>=2 else False for i in range(num + 1)]\n",
    "    \n",
    "    #Now, run a index from 2 to sqrt(num)\n",
    "    i = 2\n",
    "    while i*i<=num:\n",
    "        #If i is prime, all multiples of i which are <=num will be composite...\n",
    "        if prime[i]:\n",
    "            for j in range(i*2,num+1,i):\n",
    "                prime[j]=False\n",
    "        i+=1\n",
    "    #Now, list all the primes - i.e. all n such that prime[n]==True\n",
    "    ans = []\n",
    "    for i in range(num+1):\n",
    "        if prime[i]:\n",
    "            ans.append(i)\n",
    "    return ans"
   ]
  },
  {
   "cell_type": "code",
   "execution_count": 5,
   "metadata": {},
   "outputs": [],
   "source": [
    "primes_list = get_primes(int((MAX_P/2)**0.5)+1)"
   ]
  },
  {
   "cell_type": "markdown",
   "metadata": {},
   "source": [
    "Now factorize all the allowed values of $m,n$."
   ]
  },
  {
   "cell_type": "code",
   "execution_count": 6,
   "metadata": {},
   "outputs": [],
   "source": [
    "from collections import Counter\n",
    "def get_prime_factors(num):\n",
    "    ans = Counter()\n",
    "    n = num\n",
    "    for p in primes_list: #Note - here we assume that primes_list is the complete list of primes <=sqrt(num)\n",
    "        if p>int(num**0.5):\n",
    "            break\n",
    "        while n%p==0:\n",
    "            ans[p] += 1\n",
    "            n//=p\n",
    "    #If there's a remaining factor...\n",
    "    if n>1:\n",
    "        ans[n] += 1\n",
    "    return ans"
   ]
  },
  {
   "cell_type": "code",
   "execution_count": 7,
   "metadata": {},
   "outputs": [],
   "source": [
    "prime_factorization = {}\n",
    "for i in range(1,int((MAX_P/2)**0.5)+1):\n",
    "    prime_factorization[i] = get_prime_factors(i)"
   ]
  },
  {
   "cell_type": "markdown",
   "metadata": {},
   "source": [
    "## Generate Pythogorean triplets\n",
    "\n",
    "First generate primitive triplets.\n",
    "\n",
    "For each primitive triplet, and it's multiples, use a list to count the number of triplets, with the $p$-th element being the number of triplets with perimeter $p$."
   ]
  },
  {
   "cell_type": "code",
   "execution_count": 8,
   "metadata": {},
   "outputs": [],
   "source": [
    "pytho_counter = [0]*(MAX_P+1)\n",
    "\n",
    "for n in range(1,int(MAX_P**0.5/2)+1):\n",
    "    for m in filter(lambda x:(n%2==0 or x%2==0) and not bool(prime_factorization[x] & prime_factorization[n]) \n",
    "                    and (2*x*(x+n)<=MAX_P),range(n+1,int((MAX_P/2)**0.5)+1)):\n",
    "        k = 1\n",
    "        p = 2*m*(m+n)\n",
    "        \n",
    "        while(k*p<=MAX_P):\n",
    "            pytho_counter[k*p] += 1\n",
    "            k += 1\n",
    "        #Check that they satisfy the condition...\n",
    "        #a,b,c = m**2 - n**2,2*m*n,m**2 + n**2\n",
    "        #assert a**2+b**2==c**2\n",
    "        #assert a+b+c<=MAX_P\n",
    "        #assert not(get_prime_factors(a) & get_prime_factors(b))"
   ]
  },
  {
   "cell_type": "markdown",
   "metadata": {},
   "source": [
    "Now, run along the possible values of $N$ and find the number $<=N$, with the largest value of *pytho_counter*."
   ]
  },
  {
   "cell_type": "code",
   "execution_count": 10,
   "metadata": {},
   "outputs": [],
   "source": [
    "solution = [0]*(MAX_P+1)\n",
    "\n",
    "for k in range(12,MAX_P+1):\n",
    "    solution[k] = k if pytho_counter[k]>pytho_counter[solution[k-1]] else solution[k-1]"
   ]
  },
  {
   "cell_type": "markdown",
   "metadata": {},
   "source": [
    "# Output"
   ]
  },
  {
   "cell_type": "code",
   "execution_count": 11,
   "metadata": {},
   "outputs": [
    {
     "name": "stdout",
     "output_type": "stream",
     "text": [
      "12\n",
      "60\n",
      "120\n"
     ]
    }
   ],
   "source": [
    "for N in N_list:\n",
    "    print(solution[N])"
   ]
  },
  {
   "cell_type": "code",
   "execution_count": null,
   "metadata": {},
   "outputs": [],
   "source": []
  }
 ],
 "metadata": {
  "kernelspec": {
   "display_name": "Python 3",
   "language": "python",
   "name": "python3"
  },
  "language_info": {
   "codemirror_mode": {
    "name": "ipython",
    "version": 3
   },
   "file_extension": ".py",
   "mimetype": "text/x-python",
   "name": "python",
   "nbconvert_exporter": "python",
   "pygments_lexer": "ipython3",
   "version": "3.7.7"
  }
 },
 "nbformat": 4,
 "nbformat_minor": 4
}
