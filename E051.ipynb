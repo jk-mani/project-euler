{
 "cells": [
  {
   "cell_type": "markdown",
   "metadata": {},
   "source": [
    "![](problem_statements/E051.png)"
   ]
  },
  {
   "cell_type": "markdown",
   "metadata": {},
   "source": [
    "# Input"
   ]
  },
  {
   "cell_type": "code",
   "execution_count": null,
   "metadata": {},
   "outputs": [],
   "source": [
    "N,K,L = map(int,input().strip().split(' '))"
   ]
  },
  {
   "cell_type": "markdown",
   "metadata": {},
   "source": [
    "# Steps\n",
    "\n",
    "First, find all the $N$-digit primes, by Sieve of Eratosthenes..."
   ]
  },
  {
   "cell_type": "code",
   "execution_count": null,
   "metadata": {},
   "outputs": [],
   "source": [
    "def get_primes(num):\n",
    "    \"Return a list of all primes <=num\"\n",
    "    \n",
    "    #Start with the initialization of all numbers from 1 to num as prime=True\n",
    "    prime = [True if i>=2 else False for i in range(num)]\n",
    "    \n",
    "    #Now, run a index from 2 to sqrt(num)\n",
    "    i = 2\n",
    "    while i*i<num:\n",
    "        #If i is prime, all multiples of i which are <=num will be composite...\n",
    "        if prime[i]:\n",
    "            for j in range(i*2,num,i):\n",
    "                prime[j]=False\n",
    "        i+=1\n",
    "    #Now, list all the primes - i.e. all n such that prime[n]==True\n",
    "    #Here, we ensure that we are looking for only n-digits\n",
    "    ans = []\n",
    "    for i in range(num//10,num):\n",
    "        if prime[i]:\n",
    "            ans.append(str(i))\n",
    "    return ans"
   ]
  },
  {
   "cell_type": "code",
   "execution_count": null,
   "metadata": {},
   "outputs": [],
   "source": [
    "slct_primes_list = get_primes(10**N)"
   ]
  },
  {
   "cell_type": "code",
   "execution_count": null,
   "metadata": {},
   "outputs": [],
   "source": [
    "#The mode of the digit distribution needs to be atleast K (apply this for k>=3 to reduce workload)\n",
    "if K>=3:\n",
    "    max_freq = lambda x: max([x.count(str(l)) for l in range(10)])\n",
    "    slct_primes_list = [x for x in slct_primes_list if max_freq(x)>=K]"
   ]
  },
  {
   "cell_type": "markdown",
   "metadata": {},
   "source": [
    "Now, we need to group these in families, based on how they differ from each other in digits. The problem can be broken down into:\n",
    "1. Select the $K$ positions along the N-digit number where substitutions will be done\n",
    "2. For a particular selection above, start from smallest prime number and search for other primes that will be substitutions along that selection."
   ]
  },
  {
   "cell_type": "code",
   "execution_count": null,
   "metadata": {},
   "outputs": [],
   "source": [
    "from itertools import combinations\n",
    "#For L>4, the last digit cannot be a substitution position\n",
    "if L>4:\n",
    "    substitution_positions_list = list(combinations(list(range(N-1)),K))\n",
    "else:\n",
    "    substitution_positions_list = list(combinations(list(range(N)),K))"
   ]
  },
  {
   "cell_type": "raw",
   "metadata": {},
   "source": [
    "'''\n",
    "def get_family(substitution_positions):\n",
    "    \"For a given set of substitution positions, get the family of length L with the lowest first element\"\n",
    "    \n",
    "    for element in slct_primes_list:\n",
    "        if len(set(map(lambda k: element[k],substitution_positions)))==1:\n",
    "            #Put 0-9  on substitution positions\n",
    "            possible_members = [''.join((map(lambda x:str(d) if x in substitution_positions else element[x],\n",
    "                                                 range(N)))).lstrip('0') for d in range(10)]\n",
    "            family = [p for p in possible_members if len(p)==N and check_prime(int(p))]\n",
    "\n",
    "            #Now, if this family is of length L, we are done, else continue...\n",
    "            if len(family)>=L:\n",
    "                return [family[:L]]\n",
    "    else:\n",
    "        return []     \n",
    "'''"
   ]
  },
  {
   "cell_type": "markdown",
   "metadata": {},
   "source": [
    "# Solution\n",
    "\n",
    "Now run a loop on all substitution positions, and get the possible family (if one exists) for that substitution position"
   ]
  },
  {
   "cell_type": "raw",
   "metadata": {},
   "source": [
    "'''\n",
    "families = []\n",
    "for sub in substitution_positions_list:\n",
    "    families.extend(get_family(sub))\n",
    "ans = min(families)\n",
    "print(' '.join(ans))\n",
    "'''"
   ]
  },
  {
   "cell_type": "markdown",
   "metadata": {},
   "source": [
    "# Optimization\n",
    "\n",
    "The most time consuming part is the primality checking done for each element in *possible_members*. We can reduce the time and computational effort for this by doing primality_checking using *slct_primes_list* - if the member is in the list or not. As this is a sorted list, we can use binary search. Write a definition to do binary search:"
   ]
  },
  {
   "cell_type": "code",
   "execution_count": null,
   "metadata": {},
   "outputs": [],
   "source": [
    "def binary_search(item,sorted_list):\n",
    "    \"Function to return the position of the item in sorted_list, if it exists in sorted_list\"\n",
    "    start,end = 0,len(sorted_list)-1\n",
    "    while start<=end:\n",
    "        midpoint = (start+end)//2\n",
    "        test = sorted_list[midpoint]\n",
    "        if item==test:\n",
    "            return test\n",
    "        elif item<test:\n",
    "            end = midpoint - 1\n",
    "        elif item>test:\n",
    "            start = midpoint + 1"
   ]
  },
  {
   "cell_type": "markdown",
   "metadata": {},
   "source": [
    "We can also optimize the search for families by eliminating numbers already considered in *slct_primes_list*, as we search this space. Similar minor optimizations are made"
   ]
  },
  {
   "cell_type": "code",
   "execution_count": null,
   "metadata": {},
   "outputs": [],
   "source": [
    "from collections import Counter\n",
    "\n",
    "def get_family_optimized(sub_pos):\n",
    "    \"get_family optimized with prime checking using several optimization techniques\"\n",
    "    \n",
    "    #We need only those with equal digits at substitution positions...\n",
    "    ls = [p for p in slct_primes_list if all([p[s]==p[sub_pos[0]] for s in sub_pos])]\n",
    "    \n",
    "    if K==1:\n",
    "        get_pattern = lambda x: x[:sub_pos[0]] + '*' + x[sub_pos[0]+1:]\n",
    "    elif K==2:\n",
    "        get_pattern = lambda x: x[:sub_pos[0]] +'*' + x[sub_pos[0]+1:sub_pos[1]] + '*' + x[sub_pos[1]+1:]\n",
    "    elif K==3:\n",
    "        get_pattern = lambda x: x[:sub_pos[0]] +'*' + x[sub_pos[0]+1:sub_pos[1]] + '*' + \\\n",
    "        x[sub_pos[1]+1:sub_pos[2]] + '*' + x[sub_pos[2]+1:]\n",
    "    else:\n",
    "        get_pattern = lambda x: ''.join(['*' if i in sub_pos else x[i] for i in range(N)])\n",
    "    \n",
    "    #The corresponding patterns for all elements in ls\n",
    "    all_patterns = [get_pattern(p) for p in ls]\n",
    "    pattern_counter = Counter(all_patterns)\n",
    "    \n",
    "    #If none of the patterns have >=L primes, go no further...\n",
    "    if pattern_counter[max(pattern_counter,key = lambda x:pattern_counter[x])]<L:\n",
    "        return None\n",
    "    \n",
    "    #Keep only those with pattern occurring >=L times..\n",
    "    ls = [x for x,y in zip(ls,all_patterns) if pattern_counter[y]>=L]\n",
    "    \n",
    "    mask = {k:True for k in ls}\n",
    "    for first_element in filter(lambda x:mask[x],ls):\n",
    "    \n",
    "        #We dont need to sonsider sequences with first element > current_min_first_element\n",
    "        if first_element>current_min_first_element:\n",
    "            break\n",
    "        \n",
    "        #Check if all the digits in sub_pos are same...\n",
    "        digit_at_sub = int(first_element[sub_pos[0]])\n",
    "        \n",
    "        #Check if a L-length family is even possible\n",
    "        if digit_at_sub+L>10:\n",
    "            mask[first_element] = False\n",
    "            continue\n",
    "        \n",
    "        pattern = get_pattern(first_element)\n",
    "        possible_members = [pattern.replace('*',str(d)) for d in range(digit_at_sub,10)]\n",
    "\n",
    "        family = [binary_search(p,ls) for p in possible_members if binary_search(p,ls)]\n",
    "        mask.update({f:False for f in family})\n",
    "\n",
    "        if len(family)>=L:\n",
    "            return family[:L]\n",
    "\n",
    "    else:\n",
    "        return None"
   ]
  },
  {
   "cell_type": "code",
   "execution_count": null,
   "metadata": {},
   "outputs": [],
   "source": [
    "families = []\n",
    "current_min_first_element = slct_primes_list[-1]\n",
    "for sub in substitution_positions_list:\n",
    "    ans = get_family_optimized(sub)\n",
    "    if ans:\n",
    "        families.append(ans)\n",
    "        current_min_first_element = min(ans[0],current_min_first_element)\n",
    "try:\n",
    "    print(' '.join(min(families)))\n",
    "except:\n",
    "    pass"
   ]
  },
  {
   "cell_type": "code",
   "execution_count": null,
   "metadata": {},
   "outputs": [],
   "source": []
  }
 ],
 "metadata": {
  "kernelspec": {
   "display_name": "Python 3",
   "language": "python",
   "name": "python3"
  },
  "language_info": {
   "codemirror_mode": {
    "name": "ipython",
    "version": 3
   },
   "file_extension": ".py",
   "mimetype": "text/x-python",
   "name": "python",
   "nbconvert_exporter": "python",
   "pygments_lexer": "ipython3",
   "version": "3.7.7"
  }
 },
 "nbformat": 4,
 "nbformat_minor": 4
}
