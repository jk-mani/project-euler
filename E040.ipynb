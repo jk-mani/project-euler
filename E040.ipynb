{
 "cells": [
  {
   "cell_type": "markdown",
   "metadata": {},
   "source": [
    "![](problem_statements/E040.png)"
   ]
  },
  {
   "cell_type": "markdown",
   "metadata": {},
   "source": [
    "# Input"
   ]
  },
  {
   "cell_type": "code",
   "execution_count": null,
   "metadata": {},
   "outputs": [],
   "source": [
    "T = int(input().strip())"
   ]
  },
  {
   "cell_type": "code",
   "execution_count": null,
   "metadata": {},
   "outputs": [],
   "source": [
    "N_list = []\n",
    "for _ in range(T):\n",
    "    N_list.append(input().strip())"
   ]
  },
  {
   "cell_type": "markdown",
   "metadata": {},
   "source": [
    "# Steps\n",
    "\n",
    "The Champernowne's constant ($C_{10}$) is the following irrational number\n",
    "\n",
    "$0.1234567891011121314151617181920...$\n",
    "\n",
    "To solve the above problem, we need a set of definitions:\n",
    "1. Given an decimal position $i$, calculate the decimal $d_i$\n",
    "2. Given a set of positions $i_1,i_2,i_3,i_4,i_5,i_6,i_7$, calculate $\\Pi_i d_i$\n",
    "\n",
    "To get the decimal, let's divide the digits of $C_{10}$ into sectors as follows:\n",
    "\n",
    "$0. \\underbrace{123456789}_\\textrm{1-digit} \\ \\underbrace{1011121314 \\ldots}_\\textrm{2-digit} \\ \\underbrace{100101102103 \\ldots}_\\textrm{3-digit}$\n",
    "\n",
    "For each n-digit sector, create a dictionary that defines:\n",
    "1. The number of integers in that sector\n",
    "2. Starting position of that sector in $C_{10}$\n",
    "3. Number of decimal places occupied by that sector\n",
    "4. The first integer in that sector (starting_integer)"
   ]
  },
  {
   "cell_type": "code",
   "execution_count": null,
   "metadata": {},
   "outputs": [],
   "source": [
    "MAX_LIMIT = 10**18"
   ]
  },
  {
   "cell_type": "code",
   "execution_count": null,
   "metadata": {},
   "outputs": [],
   "source": [
    "num_of_integers,starting_integer,digits_occupied = {},{},{}\n",
    "starting_position = {1:1}\n",
    "i = 1\n",
    "while starting_position[i]<=MAX_LIMIT:\n",
    "    num_of_integers[i] = 9*10**(i-1)\n",
    "    starting_integer[i] = 10**(i-1)\n",
    "    digits_occupied[i] = i*num_of_integers[i]\n",
    "    starting_position[i+1] = starting_position[i]+digits_occupied[i]\n",
    "    i += 1"
   ]
  },
  {
   "cell_type": "code",
   "execution_count": null,
   "metadata": {},
   "outputs": [],
   "source": [
    "def get_decimal(i):\n",
    "    \"Function to calculate the value of the ith decimal place in Champernowne's constant\"\n",
    "    for s in range(1,18):\n",
    "        if i>=starting_position[s] and i<starting_position[s+1]:\n",
    "            position_in_sector = i-starting_position[s]\n",
    "            break\n",
    "    \n",
    "    number_in_sector = starting_integer[s] + position_in_sector//s\n",
    "    position_in_number = position_in_sector%s\n",
    "    \n",
    "    return int(str(number_in_sector)[position_in_number])"
   ]
  },
  {
   "cell_type": "raw",
   "metadata": {},
   "source": [
    "'''\n",
    "#Testing...\n",
    "res = '0.'\n",
    "for i in range(1,1000):\n",
    "    res = res + str(get_decimal(i))\n",
    "print(res)\n",
    "'''"
   ]
  },
  {
   "cell_type": "markdown",
   "metadata": {},
   "source": [
    "# Solution"
   ]
  },
  {
   "cell_type": "code",
   "execution_count": null,
   "metadata": {},
   "outputs": [],
   "source": [
    "for line in N_list:\n",
    "    d = list(map(int,line.split(' ')))\n",
    "    assert len(d)==7\n",
    "    ans = get_decimal(d[0]) * get_decimal(d[1]) * get_decimal(d[2]) * get_decimal(d[3]) * get_decimal(\n",
    "        d[4]) * get_decimal(d[5]) * get_decimal(d[6])\n",
    "    print(ans)"
   ]
  },
  {
   "cell_type": "code",
   "execution_count": null,
   "metadata": {},
   "outputs": [],
   "source": []
  }
 ],
 "metadata": {
  "kernelspec": {
   "display_name": "Python 3",
   "language": "python",
   "name": "python3"
  },
  "language_info": {
   "codemirror_mode": {
    "name": "ipython",
    "version": 3
   },
   "file_extension": ".py",
   "mimetype": "text/x-python",
   "name": "python",
   "nbconvert_exporter": "python",
   "pygments_lexer": "ipython3",
   "version": "3.7.7"
  }
 },
 "nbformat": 4,
 "nbformat_minor": 4
}
