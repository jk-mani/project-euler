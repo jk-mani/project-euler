{
 "cells": [
  {
   "cell_type": "markdown",
   "metadata": {},
   "source": [
    "![](problem_statements/E024.png)"
   ]
  },
  {
   "cell_type": "markdown",
   "metadata": {},
   "source": [
    "# Input"
   ]
  },
  {
   "cell_type": "code",
   "execution_count": 56,
   "metadata": {},
   "outputs": [
    {
     "name": "stdout",
     "output_type": "stream",
     "text": [
      "3\n"
     ]
    }
   ],
   "source": [
    "T = int(input().strip())"
   ]
  },
  {
   "cell_type": "code",
   "execution_count": 57,
   "metadata": {},
   "outputs": [
    {
     "name": "stdout",
     "output_type": "stream",
     "text": [
      "1\n",
      "2\n",
      "3\n"
     ]
    }
   ],
   "source": [
    "N_list = []\n",
    "for _ in range(T):\n",
    "    N_list.append(int(input().strip()))"
   ]
  },
  {
   "cell_type": "markdown",
   "metadata": {},
   "source": [
    "# Steps\n",
    "We create a \"dictionary\" of all the strings that can be formed from iterating the given string - note that it can be divided into 13 parts for the first letter, and then within each part, we hve 12 parts for the second letter and so on... Let's write a recursive algorithm."
   ]
  },
  {
   "cell_type": "code",
   "execution_count": 53,
   "metadata": {},
   "outputs": [],
   "source": [
    "string = 'abcdefghijklm'"
   ]
  },
  {
   "cell_type": "code",
   "execution_count": 50,
   "metadata": {},
   "outputs": [],
   "source": [
    "def recursive_func(num,sub_string):\n",
    "    #Base scenario\n",
    "    if len(sub_string)==1:\n",
    "        return sub_string\n",
    "    #The length of each sub_dictionary will be L = factorial of len(sub_string)-1\n",
    "    L = 1\n",
    "    for i in range(1,len(sub_string)):\n",
    "        L *= i\n",
    "    #Now, the dictionary is divided into len(sub_string) equal parts, each of size L\n",
    "    new_letter = sub_string[num//L]\n",
    "    #Now, create a new sub_string removing the new_letter\n",
    "    ls = list(sub_string)\n",
    "    ls.remove(new_letter)\n",
    "    new_sub_string = ''.join(ls)\n",
    "    #Recursive step...\n",
    "    return new_letter + recursive_func(num%L,new_sub_string)"
   ]
  },
  {
   "cell_type": "markdown",
   "metadata": {},
   "source": [
    "# Solution"
   ]
  },
  {
   "cell_type": "code",
   "execution_count": 58,
   "metadata": {},
   "outputs": [
    {
     "name": "stdout",
     "output_type": "stream",
     "text": [
      "abcdefghijklm\n",
      "abcdefghijkml\n",
      "abcdefghijlkm\n"
     ]
    }
   ],
   "source": [
    "for N in N_list:\n",
    "    ans = recursive_func(N-1,string)\n",
    "    print(ans)"
   ]
  },
  {
   "cell_type": "code",
   "execution_count": null,
   "metadata": {},
   "outputs": [],
   "source": []
  }
 ],
 "metadata": {
  "kernelspec": {
   "display_name": "Python 3",
   "language": "python",
   "name": "python3"
  },
  "language_info": {
   "codemirror_mode": {
    "name": "ipython",
    "version": 3
   },
   "file_extension": ".py",
   "mimetype": "text/x-python",
   "name": "python",
   "nbconvert_exporter": "python",
   "pygments_lexer": "ipython3",
   "version": "3.7.7"
  }
 },
 "nbformat": 4,
 "nbformat_minor": 4
}
