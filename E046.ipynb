{
 "cells": [
  {
   "cell_type": "markdown",
   "metadata": {},
   "source": [
    "![](problem_statements/E046.png)"
   ]
  },
  {
   "cell_type": "markdown",
   "metadata": {},
   "source": [
    "# Input"
   ]
  },
  {
   "cell_type": "code",
   "execution_count": 22,
   "metadata": {},
   "outputs": [
    {
     "name": "stdout",
     "output_type": "stream",
     "text": [
      "2\n",
      "15\n",
      "499999\n"
     ]
    }
   ],
   "source": [
    "T = int(input().strip())\n",
    "N_list = []\n",
    "for _ in range(T):\n",
    "    N_list.append(int(input().strip()))"
   ]
  },
  {
   "cell_type": "markdown",
   "metadata": {},
   "source": [
    "# Steps\n",
    "First list all the primes as well as all the squares we will be needing"
   ]
  },
  {
   "cell_type": "code",
   "execution_count": 23,
   "metadata": {},
   "outputs": [],
   "source": [
    "def get_primes(num):\n",
    "    \"Return a list of all primes <= N\"\n",
    "    \n",
    "    #Start with the initialization of all numbers from 1 to num as prime=True\n",
    "    prime = [True if i>=2 else False for i in range(num + 1)]\n",
    "    \n",
    "    #Now, run a index from 2 to sqrt(num)\n",
    "    i = 2\n",
    "    while i*i<=num:\n",
    "        #If i is prime, all multiples of i which are <=num will be composite...\n",
    "        if prime[i]:\n",
    "            for j in range(i*2,num+1,i):\n",
    "                prime[j]=False\n",
    "        i+=1\n",
    "    #Now, list all the primes - i.e. all n such that prime[n]==True\n",
    "    ans = []\n",
    "    for i in range(num+1):\n",
    "        if prime[i]:\n",
    "            ans.append(i)\n",
    "    return ans"
   ]
  },
  {
   "cell_type": "code",
   "execution_count": 24,
   "metadata": {},
   "outputs": [],
   "source": [
    "MAX_N = max(N_list)\n",
    "primes_list = get_primes(MAX_N-1)\n",
    "squares_list = [x**2 for x in range(1,int((MAX_N/2)**0.5)+1)]"
   ]
  },
  {
   "cell_type": "code",
   "execution_count": 25,
   "metadata": {},
   "outputs": [],
   "source": [
    "def check_prime(item):\n",
    "    start,end = 0,len(primes_list)-1\n",
    "    while start<=end:\n",
    "        midpoint = (start+end)//2\n",
    "        if item==primes_list[midpoint]:\n",
    "            return True\n",
    "        elif item<primes_list[midpoint]:\n",
    "            end = midpoint - 1\n",
    "        elif item>primes_list[midpoint]:\n",
    "            start = midpoint + 1\n",
    "    else:\n",
    "        return False"
   ]
  },
  {
   "cell_type": "code",
   "execution_count": 26,
   "metadata": {},
   "outputs": [],
   "source": [
    "def get_sol(num):\n",
    "    ans = 0\n",
    "    for s in squares_list:\n",
    "        if 2*s>=num:\n",
    "            break\n",
    "        if check_prime(num-2*s):\n",
    "            ans += 1\n",
    "    return ans"
   ]
  },
  {
   "cell_type": "markdown",
   "metadata": {},
   "source": [
    "# Solution"
   ]
  },
  {
   "cell_type": "code",
   "execution_count": 27,
   "metadata": {},
   "outputs": [
    {
     "name": "stdout",
     "output_type": "stream",
     "text": [
      "2\n",
      "156\n"
     ]
    }
   ],
   "source": [
    "for N in N_list:\n",
    "    print(get_sol(N))"
   ]
  },
  {
   "cell_type": "code",
   "execution_count": null,
   "metadata": {},
   "outputs": [],
   "source": []
  }
 ],
 "metadata": {
  "kernelspec": {
   "display_name": "Python 3",
   "language": "python",
   "name": "python3"
  },
  "language_info": {
   "codemirror_mode": {
    "name": "ipython",
    "version": 3
   },
   "file_extension": ".py",
   "mimetype": "text/x-python",
   "name": "python",
   "nbconvert_exporter": "python",
   "pygments_lexer": "ipython3",
   "version": "3.7.7"
  }
 },
 "nbformat": 4,
 "nbformat_minor": 4
}
