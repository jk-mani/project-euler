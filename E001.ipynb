{
 "cells": [
  {
   "cell_type": "markdown",
   "metadata": {},
   "source": [
    "![](problem_statements/E001.png)"
   ]
  },
  {
   "cell_type": "markdown",
   "metadata": {},
   "source": [
    "# Input\n",
    "\n",
    "Read the first line, and get the number of integers (T) to input, then run a loop to input T integers"
   ]
  },
  {
   "cell_type": "code",
   "execution_count": null,
   "metadata": {},
   "outputs": [],
   "source": [
    "T = int(input().strip())"
   ]
  },
  {
   "cell_type": "code",
   "execution_count": null,
   "metadata": {},
   "outputs": [],
   "source": [
    "N_list = []\n",
    "for _ in range(T):\n",
    "    N_list.append(int(input().strip()))"
   ]
  },
  {
   "cell_type": "markdown",
   "metadata": {},
   "source": [
    "# Steps"
   ]
  },
  {
   "cell_type": "markdown",
   "metadata": {},
   "source": [
    "We now write a function taking as input an integer $N$ to sum all the multiples of 3 and 5 which are less than $N$. A simple way is to run a loop summing all the multiples of 3 and 5 as we go from 1 to $N-1$. However this will be highly time consuming, as $N$ can range upto $10^{9}$, and we can have *T* (<=$10^{5}$) such numbers. This makes such an approach untenable. Instead we note that:\n",
    "\n",
    "$3 + 6 + 9 + ... +$ upto $<N$\n",
    "\n",
    "Can be written as\n",
    "$3 \\ (1 + 2 + 3 + ... (N-1)//3)$\n",
    "\n",
    "$ = 3 \\ \\Sigma_{n=0}^{(N-1)//3} n$\n",
    "\n",
    "$= 3 \\ (m_3) \\ (m_3+1) / 2$\n",
    "\n",
    "where $m_3 = (N-1)// 3$"
   ]
  },
  {
   "cell_type": "markdown",
   "metadata": {},
   "source": [
    "Similarly write a function to sum up multiples of 5. However we musn't count the numbers which are multiples of 3 and 5 twice. So subtract the multiples of 15 from the total."
   ]
  },
  {
   "cell_type": "code",
   "execution_count": null,
   "metadata": {},
   "outputs": [],
   "source": [
    "def sum_multiples_of_3_and_5(n):\n",
    "    m3,m5,m15 = (n-1)//3,(n-1)//5,(n-1)//15\n",
    "    return 3*m3*(m3+1)//2 + 5*m5*(m5+1)//2 - 15*m15*(m15+1)//2"
   ]
  },
  {
   "cell_type": "markdown",
   "metadata": {},
   "source": [
    "Note : The double slash in the return statement is to keep the output as integer.\n",
    "\n",
    "Now apply the above function to all the integers in N_list"
   ]
  },
  {
   "cell_type": "markdown",
   "metadata": {},
   "source": [
    "# Solution"
   ]
  },
  {
   "cell_type": "code",
   "execution_count": null,
   "metadata": {},
   "outputs": [],
   "source": [
    "for N in N_list:\n",
    "    print(sum_multiples_of_3_and_5(N))"
   ]
  },
  {
   "cell_type": "code",
   "execution_count": null,
   "metadata": {},
   "outputs": [],
   "source": []
  }
 ],
 "metadata": {
  "kernelspec": {
   "display_name": "Python 3",
   "language": "python",
   "name": "python3"
  },
  "language_info": {
   "codemirror_mode": {
    "name": "ipython",
    "version": 3
   },
   "file_extension": ".py",
   "mimetype": "text/x-python",
   "name": "python",
   "nbconvert_exporter": "python",
   "pygments_lexer": "ipython3",
   "version": "3.7.7"
  }
 },
 "nbformat": 4,
 "nbformat_minor": 2
}
