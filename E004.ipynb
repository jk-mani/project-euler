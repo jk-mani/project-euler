{
 "cells": [
  {
   "cell_type": "markdown",
   "metadata": {},
   "source": [
    "![](problem_statements/E004.png)"
   ]
  },
  {
   "cell_type": "markdown",
   "metadata": {},
   "source": [
    "# Input\n",
    "\n",
    "Read the first line, and get the number of integers ($T$) to input, then run a loop to input $T$ integers"
   ]
  },
  {
   "cell_type": "code",
   "execution_count": 2,
   "metadata": {},
   "outputs": [
    {
     "name": "stdout",
     "output_type": "stream",
     "text": [
      "2\n"
     ]
    }
   ],
   "source": [
    "T = int(input().strip())"
   ]
  },
  {
   "cell_type": "code",
   "execution_count": 3,
   "metadata": {},
   "outputs": [
    {
     "name": "stdout",
     "output_type": "stream",
     "text": [
      "120000\n",
      "800000\n"
     ]
    }
   ],
   "source": [
    "N_list = []\n",
    "for _ in range(T):\n",
    "    N_list.append(int(input().strip()))"
   ]
  },
  {
   "cell_type": "markdown",
   "metadata": {},
   "source": [
    "# Steps\n",
    "\n",
    "This problem has several components which can be solved separately, so let's write a definition for each part:\n",
    "1. Definition to find the maximum palindrome less than $N$\n",
    "2. Definition to check if a 6-digit number is factorizable into two 3-digit numbers\n",
    "3. Use the above two definitions to find maximum palindrome < $N$ and having 3-digit factors"
   ]
  },
  {
   "cell_type": "code",
   "execution_count": 30,
   "metadata": {},
   "outputs": [],
   "source": [
    "#Find the maximum palindrome which is < N, assuming that the number of digits = 6\n",
    "def max_palin(num):\n",
    "    \"Function to find the largest palindrome < N for a 6-digit number N\"\n",
    "    \n",
    "    num = num-1 #Ensuring that palindromes will be strictly < num\n",
    "    digits = str(num)\n",
    "    #Check that it's a 6-digit number... and the number belongs in the correct range\n",
    "    assert len(digits)==6\n",
    "    proposed_palindrome = digits[:3] + digits[2::-1]\n",
    "    \n",
    "    while proposed_palindrome>digits:\n",
    "        #Check each digit if proposed_palindrome > digits\n",
    "        chk = list(map(lambda x:x[0]>x[1],zip(proposed_palindrome,digits)))        \n",
    "\n",
    "        #Position of the first place where palindrome > digits\n",
    "        n = chk.index(True)\n",
    "        \n",
    "        #Place  = 1 for units, 2 for tens, 3 for hundreds..\n",
    "        place = 6-n\n",
    "        \n",
    "        #Truncate the left of digits upto \"place\" and subtract 1, fill up the right side with 9999\n",
    "        digits = str(num//10**place-1) + place*'9'\n",
    "        \n",
    "        #New proposed palindrome....\n",
    "        proposed_palindrome = digits[:3] + digits[2::-1]\n",
    "    \n",
    "    return int(proposed_palindrome)"
   ]
  },
  {
   "cell_type": "code",
   "execution_count": 4,
   "metadata": {},
   "outputs": [],
   "source": [
    "#Definition to check if a 6-digit number has 3-digit factors...\n",
    "def check_factors(num):\n",
    "    \"Definition to check if a 6-digit number can be factorized into 2 3-digit numbers\"\n",
    "    #Nearest integer to the square root of num\n",
    "    sqrt = round(num**0.5)\n",
    "    \n",
    "    #Smallest search space to check for factors\n",
    "    chk = range(sqrt,1000) if sqrt>500 else range(101,sqrt+1)\n",
    "    \n",
    "    #Seaching for 3-digit factors\n",
    "    for f in chk:\n",
    "        #Check if num is divisible by f, and if the other factor is 3-digit...\n",
    "        if num%f==0 and len(str(num//f))==3:\n",
    "            return True\n",
    "    #If no number in chk is a divisor, condition is not satisfied\n",
    "    return False"
   ]
  },
  {
   "cell_type": "code",
   "execution_count": 5,
   "metadata": {},
   "outputs": [],
   "source": [
    "def max_palin_check_factors(num):\n",
    "    \"Definition to find the maximum palindrome < num with 3-digit factors\"\n",
    "    num = max_palin(num)\n",
    "    while not check_factors(num):\n",
    "        num = max_palin(num)\n",
    "    return num"
   ]
  },
  {
   "cell_type": "markdown",
   "metadata": {},
   "source": [
    "# Result\n",
    "\n",
    "Now, apply *max_palin_check_factors* to all the numbers in *N_list*"
   ]
  },
  {
   "cell_type": "code",
   "execution_count": 6,
   "metadata": {},
   "outputs": [
    {
     "name": "stdout",
     "output_type": "stream",
     "text": [
      "101101\n",
      "793397\n"
     ]
    }
   ],
   "source": [
    "for N in N_list:\n",
    "    ans = max_palin_check_factors(n)\n",
    "    print(ans)"
   ]
  }
 ],
 "metadata": {
  "kernelspec": {
   "display_name": "Python 3",
   "language": "python",
   "name": "python3"
  },
  "language_info": {
   "codemirror_mode": {
    "name": "ipython",
    "version": 3
   },
   "file_extension": ".py",
   "mimetype": "text/x-python",
   "name": "python",
   "nbconvert_exporter": "python",
   "pygments_lexer": "ipython3",
   "version": "3.7.7"
  }
 },
 "nbformat": 4,
 "nbformat_minor": 4
}
