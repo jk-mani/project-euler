{
 "cells": [
  {
   "cell_type": "markdown",
   "metadata": {},
   "source": [
    "![](problem_statements/E029.png)"
   ]
  },
  {
   "cell_type": "markdown",
   "metadata": {},
   "source": [
    "# Input"
   ]
  },
  {
   "cell_type": "code",
   "execution_count": 1,
   "metadata": {},
   "outputs": [
    {
     "name": "stdout",
     "output_type": "stream",
     "text": [
      "100000\n"
     ]
    }
   ],
   "source": [
    "N = int(input().strip())"
   ]
  },
  {
   "cell_type": "markdown",
   "metadata": {},
   "source": [
    "# Steps\n",
    "\n",
    "First, separate the digits between $2$ and $N$, into two sets - ones with no repetition from powers of smaller numbers, and ones whose powers repeat the powers of smaller numbers."
   ]
  },
  {
   "cell_type": "code",
   "execution_count": 2,
   "metadata": {},
   "outputs": [],
   "source": [
    "repeat_powers = [False,False] + [False]*(N-1)  #Put 0,1 as False, though we won't be using them...\n",
    "for i in filter(lambda x:not repeat_powers[x],range(2,int(N**0.5)+1)):\n",
    "    j = i*i\n",
    "    while j<=N:\n",
    "        repeat_powers[j] = True\n",
    "        j *= i"
   ]
  },
  {
   "cell_type": "code",
   "execution_count": 3,
   "metadata": {},
   "outputs": [],
   "source": [
    "def fun(base):\n",
    "    \"Return the number of exponents for base^2 to base^N, and for powers of base <=N\"\n",
    "    #Find the largest power of base <=N...\n",
    "    p_max = 1\n",
    "    while base**(p_max+1)<=N:\n",
    "        p_max += 1\n",
    "\n",
    "    #So all the possible powers of base are 2 to power*N in our final sequence...\n",
    "    seq = [False]*(p_max*N+1)\n",
    "\n",
    "    #Now, we need to mark as True whenver the powers of base or base**p are in seq...\n",
    "    for p in range(1,p_max+1):\n",
    "        seq[2*p:N*p+1:p] = [True]*(N-1)\n",
    "\n",
    "    return sum(seq)"
   ]
  },
  {
   "cell_type": "code",
   "execution_count": 4,
   "metadata": {},
   "outputs": [],
   "source": [
    "ans = 0\n",
    "for num in filter(lambda x:not repeat_powers[x],range(2,N+1)):\n",
    "    if num<int(N**0.5)+1:\n",
    "        ans += fun(num)\n",
    "    else:\n",
    "        ans += (N-1)"
   ]
  },
  {
   "cell_type": "markdown",
   "metadata": {},
   "source": [
    "# Solution"
   ]
  },
  {
   "cell_type": "code",
   "execution_count": 5,
   "metadata": {},
   "outputs": [
    {
     "name": "stdout",
     "output_type": "stream",
     "text": [
      "9981236306\n"
     ]
    }
   ],
   "source": [
    "print(ans)"
   ]
  },
  {
   "cell_type": "code",
   "execution_count": null,
   "metadata": {},
   "outputs": [],
   "source": []
  }
 ],
 "metadata": {
  "kernelspec": {
   "display_name": "Python 3",
   "language": "python",
   "name": "python3"
  },
  "language_info": {
   "codemirror_mode": {
    "name": "ipython",
    "version": 3
   },
   "file_extension": ".py",
   "mimetype": "text/x-python",
   "name": "python",
   "nbconvert_exporter": "python",
   "pygments_lexer": "ipython3",
   "version": "3.7.7"
  }
 },
 "nbformat": 4,
 "nbformat_minor": 4
}
