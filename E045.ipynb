{
 "cells": [
  {
   "cell_type": "markdown",
   "metadata": {},
   "source": [
    "![](problem_statements/E045.png)"
   ]
  },
  {
   "cell_type": "markdown",
   "metadata": {},
   "source": [
    "# Input"
   ]
  },
  {
   "cell_type": "code",
   "execution_count": 135,
   "metadata": {},
   "outputs": [
    {
     "name": "stdout",
     "output_type": "stream",
     "text": [
      "100 3 5\n"
     ]
    }
   ],
   "source": [
    "N,a,b = map(int,input().strip().split(' '))"
   ]
  },
  {
   "cell_type": "markdown",
   "metadata": {},
   "source": [
    "# Steps\n",
    "We need a function to heck for trinagularity and hexagonality"
   ]
  },
  {
   "cell_type": "code",
   "execution_count": 137,
   "metadata": {},
   "outputs": [],
   "source": [
    "check_tri = lambda x:((-1 + (1 + 8*x)**0.5)/2)%1==0\n",
    "check_hex = lambda x:((1 + (1 + 8*x)**0.5)/4)%1==0"
   ]
  },
  {
   "cell_type": "markdown",
   "metadata": {},
   "source": [
    "Now run through the pentagonal numbers and print those which are triagonal or hexagonal based on the query"
   ]
  },
  {
   "cell_type": "markdown",
   "metadata": {},
   "source": [
    "# Solution"
   ]
  },
  {
   "cell_type": "code",
   "execution_count": 143,
   "metadata": {},
   "outputs": [
    {
     "name": "stdout",
     "output_type": "stream",
     "text": [
      "1\n",
      "210\n",
      "40755\n",
      "7906276\n",
      "1533776805\n",
      "297544793910\n"
     ]
    }
   ],
   "source": [
    "max_n = int((1 + (1 + 24*N)**0.5)/6)\n",
    "\n",
    "if a==3:\n",
    "    for n in range(1,max_n):\n",
    "        pn = n*(3*n-1)//2\n",
    "        if check_tri(pn):\n",
    "            print(pn)\n",
    "elif b==6:\n",
    "    for n in range(1,max_n):\n",
    "        pn = n*(3*n-1)//2\n",
    "        if check_hex(pn):\n",
    "            print(pn)"
   ]
  },
  {
   "cell_type": "code",
   "execution_count": null,
   "metadata": {},
   "outputs": [],
   "source": []
  }
 ],
 "metadata": {
  "kernelspec": {
   "display_name": "Python 3",
   "language": "python",
   "name": "python3"
  },
  "language_info": {
   "codemirror_mode": {
    "name": "ipython",
    "version": 3
   },
   "file_extension": ".py",
   "mimetype": "text/x-python",
   "name": "python",
   "nbconvert_exporter": "python",
   "pygments_lexer": "ipython3",
   "version": "3.7.7"
  }
 },
 "nbformat": 4,
 "nbformat_minor": 4
}
