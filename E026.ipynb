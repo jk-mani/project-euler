{
 "cells": [
  {
   "cell_type": "markdown",
   "metadata": {},
   "source": [
    "![](problem_statements/E026.png)"
   ]
  },
  {
   "cell_type": "markdown",
   "metadata": {},
   "source": [
    "# Input"
   ]
  },
  {
   "cell_type": "code",
   "execution_count": 183,
   "metadata": {},
   "outputs": [
    {
     "name": "stdout",
     "output_type": "stream",
     "text": [
      "2\n"
     ]
    }
   ],
   "source": [
    "T = int(input().strip())"
   ]
  },
  {
   "cell_type": "code",
   "execution_count": 184,
   "metadata": {},
   "outputs": [
    {
     "name": "stdout",
     "output_type": "stream",
     "text": [
      "5\n",
      "10\n"
     ]
    }
   ],
   "source": [
    "N_list = []\n",
    "for _ in range(T):\n",
    "    N_list.append(int(input().strip()))"
   ]
  },
  {
   "cell_type": "markdown",
   "metadata": {},
   "source": [
    "# Steps\n",
    "Get the recurring part of a decimal $1/d$"
   ]
  },
  {
   "cell_type": "code",
   "execution_count": 185,
   "metadata": {},
   "outputs": [],
   "source": [
    "def get_recurrence_length(d):\n",
    "    \"Function to get the decimal expansion of 1/d\"\n",
    "    decimal = ''\n",
    "        \n",
    "    current_remainder = 10\n",
    "    remainder_list = []\n",
    "\n",
    "    while current_remainder!=0 and current_remainder not in remainder_list:\n",
    "        #Division quotient goes into the decimal...\n",
    "        decimal = decimal + str(current_remainder//d)\n",
    "\n",
    "        #Update the remainder list...\n",
    "        remainder_list.append(current_remainder)\n",
    "\n",
    "        #Update the remainder for next iteration...\n",
    "        current_remainder = (current_remainder % d)*10\n",
    "\n",
    "    #Calculate recurrence length\n",
    "    if current_remainder==0:\n",
    "        recurrence_length = 0\n",
    "    else:\n",
    "        recurrence_length = len(remainder_list) - remainder_list.index(current_remainder)\n",
    "        decimal = decimal[:-recurrence_length] + '(' + decimal[-recurrence_length:] + ')'\n",
    "    return recurrence_length #,'0.' + decimal"
   ]
  },
  {
   "cell_type": "markdown",
   "metadata": {},
   "source": [
    "# Unoptimized Solution\n",
    "Now, write a definition with input *num* to run the above for all $d<num$, and find the longest recurring decimal"
   ]
  },
  {
   "cell_type": "raw",
   "metadata": {},
   "source": [
    "'''\n",
    "def get_solution(num):\n",
    "    ls = []\n",
    "    for d in range(1,num):\n",
    "        ls.append((d,get_reurrence_length(d)))\n",
    "    ans = max(ls,key = lambda x:x[1])\n",
    "    return ans[0]\n",
    "\n",
    "#Calculate the time taken for maximum vaue of N\n",
    "from time import time\n",
    "t = time()\n",
    "_ = get_solution(10000)\n",
    "print(\"Time taken:\", round(time()-t,2))\n",
    "'''"
   ]
  },
  {
   "cell_type": "markdown",
   "metadata": {},
   "source": [
    "# Optimized Solution\n",
    "We take advantage of the following theorems of recurring decimals:\n",
    "https://en.wikipedia.org/wiki/Repeating_decimal#Other_properties_of_repetend_lengths\n",
    "\n",
    "Specifically:\n",
    "* If $p$ is prime, the period of $\\frac{1}{p}$ divides evenly into $p-1$\n",
    "* If $p, p', p''\\ldots$ are distinct primes, the period of $\\frac{1}{pp'p''}$ is the LCM of the periods of $\\frac{1}{p}$,$\\frac{1}{p'}$,$\\frac{1}{p''}$ $\\ldots$\n",
    "* If $k$ and $k'$ have no common prime factors other than 2 and 5, then period of $\\frac{1}{kk'}$ is the LCM of the periods of $\\frac{1}{k}$, $\\frac{1}{k'}$\n",
    "* For some prime $p$ if\n",
    "\n",
    "$\\qquad \\text{period} \\left( \\frac{1}{p} \\right) = \\text{period} \\left( \\frac{1}{p^2} \\right) = \\ldots \\text{period} \\left( \\frac{1}{p^m} \\right)$\n",
    "\n",
    "$\\quad \\ $ for some $m$, but\n",
    "\n",
    "$\\qquad \\text{period} \\left( \\frac{1}{p^m} \\right) \\neq \\text{period} \\left( \\frac{1}{p^{m+1}} \\right)$\n",
    "\n",
    "$\\quad \\ $ then for $c\\geq 0$\n",
    "\n",
    "$\\qquad \\text{period} \\left( \\frac{1}{p^{m+c}} \\right) = p^c \\cdot \\text{period} \\left( \\frac{1}{p^m} \\right)$"
   ]
  },
  {
   "cell_type": "markdown",
   "metadata": {},
   "source": [
    "## Steps\n",
    "1. Get the required primes, and their recurrence length..."
   ]
  },
  {
   "cell_type": "code",
   "execution_count": 186,
   "metadata": {},
   "outputs": [],
   "source": [
    "def get_primes(num):\n",
    "    \"Return a list of all primes <= N\"\n",
    "    \n",
    "    #Start with the initialization of all numbers from 1 to num as prime=True\n",
    "    prime = [True if i>=2 else False for i in range(num + 1)]\n",
    "    \n",
    "    #Now, run a index from 2 to sqrt(num)\n",
    "    i = 2\n",
    "    while i*i<=num:\n",
    "        #If i is prime, all multiples of i which are <=num will be composite...\n",
    "        if prime[i]:\n",
    "            for j in range(i*2,num+1,i):\n",
    "                prime[j]=False\n",
    "        i+=1\n",
    "    #Now, list all the primes - i.e. all n such that prime[n]==True\n",
    "    ans = []\n",
    "    for i in range(num+1):\n",
    "        if prime[i]:\n",
    "            ans.append(i)\n",
    "    return ans"
   ]
  },
  {
   "cell_type": "code",
   "execution_count": 187,
   "metadata": {},
   "outputs": [],
   "source": [
    "MAX_N = 10000\n",
    "primes_list = get_primes(MAX_N)"
   ]
  },
  {
   "cell_type": "markdown",
   "metadata": {},
   "source": [
    "Now, calculate the recurrence lengths for all the primes in the list... We know that it's a divisor of $p-1$. So we can calculate all the $p-1$ decimals, and then look for repeating patterns in them"
   ]
  },
  {
   "cell_type": "code",
   "execution_count": 144,
   "metadata": {},
   "outputs": [],
   "source": [
    "#___TO GET ALL FACTORS OF A NUMBER_____\n",
    "from collections import Counter\n",
    "def get_prime_factors(num):\n",
    "    ans = Counter()\n",
    "    n = num\n",
    "    for p in primes_list: #Note - here we assume that primes_list is the complete list of primes <=sqrt(num)\n",
    "        if p>int(num**0.5):\n",
    "            break\n",
    "        while n%p==0:\n",
    "            ans[p] += 1\n",
    "            n//=p\n",
    "    #If there's a remaining factor...\n",
    "    if n>1:\n",
    "        ans[n] += 1\n",
    "    return ans\n",
    "\n",
    "from itertools import product\n",
    "def get_all_factors(num):\n",
    "    \"List all the factors of num\"\n",
    "    prime_factors = get_prime_factors(num)\n",
    "    exp_list = product(*[tuple(range(v+1)) for v in prime_factors.values()])\n",
    "    ans = []\n",
    "    for exp in exp_list:\n",
    "        prod=1\n",
    "        for b,e in zip(prime_factors.keys(),exp):\n",
    "            prod *= b**e\n",
    "        ans.append(prod)\n",
    "    return sorted(ans)"
   ]
  },
  {
   "cell_type": "code",
   "execution_count": 145,
   "metadata": {},
   "outputs": [],
   "source": [
    "def check_recurrence_length(string,l):\n",
    "    \"To check whether a string of integer multiple length if l has a recurrence of length l\"\n",
    "    #First, if the string doesn't divide into l equal parts, return False\n",
    "    try:\n",
    "        assert len(string)%l==0\n",
    "    except AssertionError:\n",
    "        return False\n",
    "    #The first l digits...\n",
    "    base = string[:l]\n",
    "    #The remaining sets of l digits...\n",
    "    for i in range(1,len(string)//l):\n",
    "        if base!=string[i*l:(i+1)*l]:\n",
    "            return False\n",
    "    else:\n",
    "        return True"
   ]
  },
  {
   "cell_type": "code",
   "execution_count": 146,
   "metadata": {},
   "outputs": [],
   "source": [
    "def prime_recurrence_length(p):\n",
    "    chk_str = str(10**(p-1)//p).rjust(p-1,'0')\n",
    "    possible_recurrence_lengths = get_all_factors(p-1)\n",
    "    for l in possible_recurrence_lengths:\n",
    "        if check_recurrence_length(chk_str,l):\n",
    "            break\n",
    "    return l"
   ]
  },
  {
   "cell_type": "markdown",
   "metadata": {},
   "source": [
    "Now, calculate prime recurrence length for all primes except $2,5$"
   ]
  },
  {
   "cell_type": "code",
   "execution_count": 149,
   "metadata": {},
   "outputs": [],
   "source": [
    "ans_dict = {p:0 if (p==2 or p==5) else prime_recurrence_length(p) for p in primes_list}"
   ]
  },
  {
   "cell_type": "markdown",
   "metadata": {},
   "source": [
    "Now, for the powers of these primes..."
   ]
  },
  {
   "cell_type": "code",
   "execution_count": 150,
   "metadata": {},
   "outputs": [],
   "source": [
    "for p in primes_list:\n",
    "    i = 1\n",
    "    flag = True #a flag to check if the value c has been reached...\n",
    "    while p**(i+1)<MAX_N:\n",
    "        if p==2 or p==5:\n",
    "            ans_dict[p**(i+1)] = 0\n",
    "        elif flag and get_recurrence_length(p**(i+1))==ans_dict[p**i]:\n",
    "            ans_dict[p**(i+1)] = ans_dict[p**i]\n",
    "        else:\n",
    "            flag=False\n",
    "            ans_dict[p**(i+1)] = p*ans_dict[p**i]\n",
    "        i += 1"
   ]
  },
  {
   "cell_type": "markdown",
   "metadata": {},
   "source": [
    "Now, for the composite numbers..."
   ]
  },
  {
   "cell_type": "code",
   "execution_count": 171,
   "metadata": {},
   "outputs": [],
   "source": [
    "def LCM(*args):\n",
    "    \"Function to find the LCM of all the args\"\n",
    "    try:\n",
    "        exp = get_prime_factors(args[0])\n",
    "    except IndexError:\n",
    "        return 0\n",
    "    for a in args[1:]:\n",
    "        exp |= get_prime_factors(a)\n",
    "    ans = 1\n",
    "    for e in exp:\n",
    "        ans *= e**exp[e]\n",
    "    return ans"
   ]
  },
  {
   "cell_type": "code",
   "execution_count": 172,
   "metadata": {},
   "outputs": [],
   "source": [
    "def composite_recurrence_length(c):\n",
    "    \"Recurrence length for composite numbers...\"\n",
    "    prime_factors = get_prime_factors(c)\n",
    "    #Remove factors of 2 & 5\n",
    "    try:\n",
    "        _ = prime_factors.pop(2)\n",
    "        _ = prime_factors.pop(5)\n",
    "    except KeyError:\n",
    "        pass\n",
    "    parts = [ans_dict[k**prime_factors[k]] for k in prime_factors]\n",
    "    return LCM(*parts)"
   ]
  },
  {
   "cell_type": "markdown",
   "metadata": {},
   "source": [
    "Now, fill up ans_dict for all composites..."
   ]
  },
  {
   "cell_type": "code",
   "execution_count": 173,
   "metadata": {},
   "outputs": [],
   "source": [
    "for num in range(4,10000):\n",
    "    try:\n",
    "        _ = ans_dict[num]\n",
    "    except KeyError:\n",
    "        ans_dict[num] = composite_recurrence_length(num)"
   ]
  },
  {
   "cell_type": "code",
   "execution_count": 179,
   "metadata": {},
   "outputs": [],
   "source": [
    "#Put ans in the form of a list, where recurrene length of d is ans_list[d]\n",
    "ans_list = [0,0] + [ans_dict[k] for k in range(2,10000)]"
   ]
  },
  {
   "cell_type": "markdown",
   "metadata": {},
   "source": [
    "# Solution"
   ]
  },
  {
   "cell_type": "code",
   "execution_count": 180,
   "metadata": {},
   "outputs": [
    {
     "name": "stdout",
     "output_type": "stream",
     "text": [
      "3\n",
      "7\n",
      "9967\n"
     ]
    }
   ],
   "source": [
    "for N in N_list:\n",
    "    print(ans_list.index(max(ans_list[:N])))"
   ]
  },
  {
   "cell_type": "code",
   "execution_count": null,
   "metadata": {},
   "outputs": [],
   "source": []
  }
 ],
 "metadata": {
  "kernelspec": {
   "display_name": "Python 3",
   "language": "python",
   "name": "python3"
  },
  "language_info": {
   "codemirror_mode": {
    "name": "ipython",
    "version": 3
   },
   "file_extension": ".py",
   "mimetype": "text/x-python",
   "name": "python",
   "nbconvert_exporter": "python",
   "pygments_lexer": "ipython3",
   "version": "3.7.7"
  }
 },
 "nbformat": 4,
 "nbformat_minor": 4
}
