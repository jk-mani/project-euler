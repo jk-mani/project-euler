{
 "cells": [
  {
   "cell_type": "markdown",
   "metadata": {},
   "source": [
    "![](problem_statements/E060.png)"
   ]
  },
  {
   "cell_type": "markdown",
   "metadata": {},
   "source": [
    "# Input"
   ]
  },
  {
   "cell_type": "code",
   "execution_count": 53,
   "metadata": {},
   "outputs": [
    {
     "name": "stdout",
     "output_type": "stream",
     "text": [
      "20000 4\n"
     ]
    }
   ],
   "source": [
    "N,K = map(int,input().strip().split(' '))"
   ]
  },
  {
   "cell_type": "markdown",
   "metadata": {},
   "source": [
    "# Steps\n",
    "\n",
    "First we need a list of primes <=$N$. This will be the master set from which we will build our $K$-primes. But we will also need to consider primes which are much higher - upto the concatenated integer $NN$. For these we construct a prime sieve for upto (say) 10 million, then write a quick testing algorithm for numbers above that."
   ]
  },
  {
   "cell_type": "code",
   "execution_count": 54,
   "metadata": {},
   "outputs": [],
   "source": [
    "def get_primes(num):\n",
    "    \"Return a list of all primes <= N\"\n",
    "    \n",
    "    #Start with the initialization of all numbers from 1 to num as prime=True\n",
    "    prime = [True if i>=2 else False for i in range(num + 1)]\n",
    "    \n",
    "    #Now, run a index from 2 to sqrt(num)\n",
    "    i = 2\n",
    "    while i*i<=num:\n",
    "        #If i is prime, all multiples of i which are <=num will be composite...\n",
    "        if prime[i]:\n",
    "            for j in range(i*2,num+1,i):\n",
    "                prime[j]=False\n",
    "        i+=1\n",
    "    #Now, list all the primes - i.e. all n such that prime[n]==True\n",
    "    ans = []\n",
    "    for i in range(num+1):\n",
    "        if prime[i]:\n",
    "            ans.append(i)\n",
    "    return ans"
   ]
  },
  {
   "cell_type": "code",
   "execution_count": 58,
   "metadata": {},
   "outputs": [],
   "source": [
    "master_primes_list = get_primes(N)"
   ]
  },
  {
   "cell_type": "code",
   "execution_count": 45,
   "metadata": {},
   "outputs": [],
   "source": [
    "#Build a set of primes upto 10M, these can be used for binary search primality testing...\n",
    "primes_upto_10M = get_primes(10**7)"
   ]
  },
  {
   "cell_type": "code",
   "execution_count": 20,
   "metadata": {},
   "outputs": [],
   "source": [
    "def binary_search(item,sorted_list):\n",
    "    \"Function to check if item is in a sorted list\"\n",
    "    start,end = 0,len(sorted_list)-1\n",
    "    while start<=end:\n",
    "        midpoint = (start+end)//2\n",
    "        test = sorted_list[midpoint]\n",
    "        if item==test:\n",
    "            return True\n",
    "        elif item<test:\n",
    "            end = midpoint - 1\n",
    "        elif item>test:\n",
    "            start = midpoint + 1\n",
    "    else:\n",
    "        return False"
   ]
  },
  {
   "cell_type": "code",
   "execution_count": 39,
   "metadata": {},
   "outputs": [],
   "source": [
    "#Now, a quick prime testing algorithm...\n",
    "def check_prime(num):\n",
    "    if num<=10**7:\n",
    "        return binary_search(num,primes_upto_10M)\n",
    "    else:\n",
    "        for f in primes_upto_10M:\n",
    "            if f>num**0.5:\n",
    "                return True\n",
    "            if num%f==0:\n",
    "                return False\n",
    "        else:\n",
    "            return True"
   ]
  },
  {
   "cell_type": "markdown",
   "metadata": {},
   "source": [
    "Now, we need to use the *master_primes_list* to build a subsets of size $K$, with the property that we can call **comprehensive composite primality** (CCP) - that is, composite number formed by combining any two of the elements will be prime.\n",
    "\n",
    "It is easy to see that any subset of such a set will also possess CCP. Thus we can build such sets, by first reaching $K=3$, and then take $K=4,5$ as supersets from there. But first we need to consider $K=2$. This is done by brute force comparison of all pairs in *master_primes_list*..."
   ]
  },
  {
   "cell_type": "code",
   "execution_count": 65,
   "metadata": {},
   "outputs": [],
   "source": [
    "check_composite_primality = lambda a,b: check_prime(int(a+b)) and check_prime(int(b+a))"
   ]
  },
  {
   "cell_type": "code",
   "execution_count": 80,
   "metadata": {},
   "outputs": [],
   "source": [
    "ccp_check = [[False]*len(master_primes_list)]*len(master_primes_list)"
   ]
  },
  {
   "cell_type": "code",
   "execution_count": 81,
   "metadata": {},
   "outputs": [
    {
     "name": "stdout",
     "output_type": "stream",
     "text": [
      "482.80317854881287\n"
     ]
    }
   ],
   "source": [
    "t = time()\n",
    "for n_a,(a,a_str) in enumerate(zip(master_primes_list,master_primes_list_str)):\n",
    "    for n_b,(b,b_str) in enumerate(zip(master_primes_list,master_primes_list_str)):\n",
    "        if check_prime(int(a_str+b_str)):\n",
    "            ccp_check[n_a][n_b]==True\n",
    "print(time()-t)"
   ]
  },
  {
   "cell_type": "code",
   "execution_count": 87,
   "metadata": {},
   "outputs": [
    {
     "data": {
      "text/plain": [
       "'19997'"
      ]
     },
     "execution_count": 87,
     "metadata": {},
     "output_type": "execute_result"
    }
   ],
   "source": [
    "b_str"
   ]
  },
  {
   "cell_type": "code",
   "execution_count": null,
   "metadata": {},
   "outputs": [],
   "source": []
  }
 ],
 "metadata": {
  "kernelspec": {
   "display_name": "Python 3",
   "language": "python",
   "name": "python3"
  },
  "language_info": {
   "codemirror_mode": {
    "name": "ipython",
    "version": 3
   },
   "file_extension": ".py",
   "mimetype": "text/x-python",
   "name": "python",
   "nbconvert_exporter": "python",
   "pygments_lexer": "ipython3",
   "version": "3.7.7"
  }
 },
 "nbformat": 4,
 "nbformat_minor": 4
}
