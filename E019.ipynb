{
 "cells": [
  {
   "cell_type": "markdown",
   "metadata": {},
   "source": [
    "![](problem_statements/E019.png)"
   ]
  },
  {
   "cell_type": "markdown",
   "metadata": {},
   "source": [
    "# Input"
   ]
  },
  {
   "cell_type": "code",
   "execution_count": 2,
   "metadata": {},
   "outputs": [
    {
     "name": "stdout",
     "output_type": "stream",
     "text": [
      "2\n"
     ]
    }
   ],
   "source": [
    "T = int(input().strip())"
   ]
  },
  {
   "cell_type": "code",
   "execution_count": 3,
   "metadata": {},
   "outputs": [
    {
     "name": "stdout",
     "output_type": "stream",
     "text": [
      "1900 1 1\n",
      "1910 1 1\n",
      "2000 1 1\n",
      "2020 1 1\n"
     ]
    }
   ],
   "source": [
    "ls = []\n",
    "for _ in range(T):\n",
    "    Y1,M1,D1 = map(int,input().strip().split(' '))\n",
    "    Y2,M2,D2 = map(int,input().strip().split(' '))\n",
    "    ls.append([(Y1,M1,D1),(Y2,M2,D2)])"
   ]
  },
  {
   "cell_type": "markdown",
   "metadata": {},
   "source": [
    "# Steps\n",
    "\n",
    "First, let's write a function to calculate id a given year is leap..."
   ]
  },
  {
   "cell_type": "code",
   "execution_count": 7,
   "metadata": {},
   "outputs": [],
   "source": [
    "def check_ly(y):\n",
    "    \"Function to determine if a given year is a leap year\"\n",
    "    if y%4!=0:\n",
    "        return False\n",
    "    else:\n",
    "        if y%100==0:\n",
    "            if y%400==0:\n",
    "                return True\n",
    "            else:\n",
    "                return False\n",
    "        else:\n",
    "            return True"
   ]
  },
  {
   "cell_type": "markdown",
   "metadata": {},
   "source": [
    "Now, write a defnition to find the number of leap years between 1900 (inclusive) and the given year (exclusive)"
   ]
  },
  {
   "cell_type": "code",
   "execution_count": 19,
   "metadata": {},
   "outputs": [],
   "source": [
    "def num_ly(y):\n",
    "    \"Find the number of leap years between y(exclusive) and 1900(inclusive)\"\n",
    "    #First, number of years divisible by 4...\n",
    "    num_4 = 1 + (y-1901)//4\n",
    "    #Number of centuries...\n",
    "    num_100 = 1 + (y-1901)//100\n",
    "    #Number of quad-centuries...\n",
    "    num_400 = max(0,1 + (y-2001)//400)\n",
    "    return num_4 - num_100 + num_400"
   ]
  },
  {
   "cell_type": "markdown",
   "metadata": {},
   "source": [
    "Now, definition to find the weekday of the 1st of a month, given a date"
   ]
  },
  {
   "cell_type": "code",
   "execution_count": 52,
   "metadata": {},
   "outputs": [],
   "source": [
    "def get_month_1st_weekday(date):\n",
    "    y,m,d = date\n",
    "    total_ly = num_ly(y)\n",
    "    total_non_ly = (y-1900) - total_ly\n",
    "    jan_1st_weekday = (1 + total_non_ly*1 + total_ly*2)%7\n",
    "    days_in_month = lambda x: 31 if x in [1,3,5,7,8,10,12] else (28+int(check_ly(y)) if x==2 else 30)\n",
    "    days_till_month_1st = sum([days_in_month(i) for i in range(1,m)])\n",
    "    #Putting the pieces together...\n",
    "    return (jan_1st_weekday+days_till_month_1st)%7"
   ]
  },
  {
   "cell_type": "code",
   "execution_count": 97,
   "metadata": {},
   "outputs": [],
   "source": [
    "#Iterator across year-months from start date to end date:\n",
    "def year_month(start_date,end_date):\n",
    "    start_y,start_m,_ = start_date\n",
    "    end_y,end_m,_ = end_date\n",
    "    current_y,current_m = start_y,start_m\n",
    "    while not (current_y==end_y and current_m==end_m):\n",
    "        yield current_y,current_m\n",
    "        #Increment...\n",
    "        current_m += 1\n",
    "        if current_m==13:\n",
    "            current_y += 1\n",
    "            current_m = 1"
   ]
  },
  {
   "cell_type": "code",
   "execution_count": 105,
   "metadata": {},
   "outputs": [],
   "source": [
    "#Definition to find the number of Sundays among month 1st days in the interval...\n",
    "def get_solution(start_date,end_date):\n",
    "    Y1,M1,D1 = start_date\n",
    "    Y2,M2,D2 = end_date\n",
    "    current_weekday = get_month_1st_weekday(start_date)\n",
    "    \n",
    "    #Now, use a Sunday counter...\n",
    "    sunday_counter=0\n",
    "    #Check if we need to include the starting month in the counter...\n",
    "    if D1==1 and current_weekday==0:\n",
    "        sunday_counter += 1\n",
    "    \n",
    "    #For the remaining months, count the days using iterator...\n",
    "    iterator = year_month(start_date,end_date)\n",
    "    for y,m in iterator:\n",
    "        days_in_month = 31 if m in [1,3,5,7,8,10,12] else (28+int(check_ly(y)) if m==2 else 30)\n",
    "        current_weekday = (current_weekday+days_in_month) % 7\n",
    "        if current_weekday==0:\n",
    "            sunday_counter += 1    \n",
    "    return sunday_counter"
   ]
  },
  {
   "cell_type": "markdown",
   "metadata": {},
   "source": [
    "# Solution"
   ]
  },
  {
   "cell_type": "code",
   "execution_count": 108,
   "metadata": {},
   "outputs": [
    {
     "name": "stdout",
     "output_type": "stream",
     "text": [
      "18\n",
      "35\n"
     ]
    }
   ],
   "source": [
    "for start_date,end_date in ls:\n",
    "    print(get_solution(start_date,end_date))"
   ]
  },
  {
   "cell_type": "code",
   "execution_count": null,
   "metadata": {},
   "outputs": [],
   "source": []
  }
 ],
 "metadata": {
  "kernelspec": {
   "display_name": "Python 3",
   "language": "python",
   "name": "python3"
  },
  "language_info": {
   "codemirror_mode": {
    "name": "ipython",
    "version": 3
   },
   "file_extension": ".py",
   "mimetype": "text/x-python",
   "name": "python",
   "nbconvert_exporter": "python",
   "pygments_lexer": "ipython3",
   "version": "3.7.7"
  }
 },
 "nbformat": 4,
 "nbformat_minor": 4
}
