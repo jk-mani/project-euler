{
 "cells": [
  {
   "cell_type": "markdown",
   "metadata": {},
   "source": [
    "![](problem_statements/E031.png)"
   ]
  },
  {
   "cell_type": "markdown",
   "metadata": {},
   "source": [
    "# Input"
   ]
  },
  {
   "cell_type": "code",
   "execution_count": 62,
   "metadata": {},
   "outputs": [
    {
     "name": "stdout",
     "output_type": "stream",
     "text": [
      "4\n"
     ]
    }
   ],
   "source": [
    "T = int(input().strip())"
   ]
  },
  {
   "cell_type": "code",
   "execution_count": 63,
   "metadata": {},
   "outputs": [
    {
     "name": "stdout",
     "output_type": "stream",
     "text": [
      "100\n",
      "1000\n",
      "10000\n",
      "100000\n"
     ]
    }
   ],
   "source": [
    "N_list = []\n",
    "for _ in range(T):\n",
    "    N_list.append(int(input().strip()))"
   ]
  },
  {
   "cell_type": "code",
   "execution_count": 64,
   "metadata": {},
   "outputs": [],
   "source": [
    "MAX_N = max(N_list)"
   ]
  },
  {
   "cell_type": "markdown",
   "metadata": {},
   "source": [
    "# Steps\n",
    "\n",
    "Let's first do a naive solution"
   ]
  },
  {
   "cell_type": "code",
   "execution_count": 65,
   "metadata": {},
   "outputs": [],
   "source": [
    "def naive_solution(num):\n",
    "    \"calculate the number of ways we can split num pennies\"\n",
    "    count = 0\n",
    "    for num_200 in range(num//200+1):\n",
    "        for num_100 in range((num-200*num_200)//100+1):\n",
    "            for num_50 in range((num - 200*num_200 - 100*num_100)//50+1):\n",
    "                for num_20 in range((num - 200*num_200 - 100*num_100 - 50*num_50)//20+1):\n",
    "                    for num_10 in range((num - 200*num_200 - 100*num_100 - 50*num_50 - 20*num_20)//10+1):\n",
    "                        for num_5 in range((num - 200*num_200 - 100*num_100 - 50*num_50 - 20*num_20 - \n",
    "                                            10*num_10)//5+1):\n",
    "                            for num_2 in range((num - 200*num_200 - 100*num_100 - 50*num_50 - 20*num_20 - \n",
    "                                            10*num_10 - 5*num_5)//2+1):\n",
    "                                count += 1\n",
    "    return count"
   ]
  },
  {
   "cell_type": "raw",
   "metadata": {},
   "source": [
    "'''\n",
    "#Let's save this for the first 201...\n",
    "ans_list = [1]\n",
    "for i in range(1,150):\n",
    "    ans_list.append(naive_solution(i))\n",
    "'''"
   ]
  },
  {
   "cell_type": "markdown",
   "metadata": {},
   "source": [
    "Let's work up from the smaller pennies. Whta is the solution if only $2\\text{p}$ and $1\\text{p}$ were allowed?"
   ]
  },
  {
   "cell_type": "code",
   "execution_count": 67,
   "metadata": {},
   "outputs": [],
   "source": [
    "ans_2p1p = [1]\n",
    "for i in range(1,MAX_N+1):\n",
    "    ans_2p1p.append(1+i//2)"
   ]
  },
  {
   "cell_type": "markdown",
   "metadata": {},
   "source": [
    "Now, if 5p is included..."
   ]
  },
  {
   "cell_type": "raw",
   "metadata": {},
   "source": [
    "'''\n",
    "ans_5p2p1p = [1]\n",
    "for i in range(1,MAX_N+1):\n",
    "    ans_5p2p1p.append(0)\n",
    "    for num_5 in range(i//5+1):\n",
    "        ans_5p2p1p[i] += ans_2p1p[i-5*num_5]\n",
    "'''"
   ]
  },
  {
   "cell_type": "markdown",
   "metadata": {},
   "source": [
    "Let's write out the first few terms...\n",
    "\n",
    "ans_5p2p1p[5] = ans_2p1p[5] + ans_2p1p[0] \\\n",
    "ans_5p2p1p[6] = ans_2p1p[6] + ans_2p1[1] \\\n",
    "...\\\n",
    "ans_5p2p1p[10] = ans_2p1p[10] + ans_2p1p[5] + ans_2p1p[0] = ans_2p1p[10] + ans_5p2p1p[5] \\\n",
    "ans_5p2p1p[11] = ans_2p1p[11] + ans_2p1p[6] + ans_2p1p[1] = ans_2p1p[11] + ans_5p2p1p[6] \n",
    "\n",
    "The idea is clear... we can calculate the ans_5p2p1p nuch faster if we do"
   ]
  },
  {
   "cell_type": "code",
   "execution_count": 68,
   "metadata": {},
   "outputs": [],
   "source": [
    "ans_5p2p1p = ans_2p1p[:5]\n",
    "for i in range(5,MAX_N+1):\n",
    "    ans_5p2p1p.append(ans_2p1p[i] + ans_5p2p1p[i-5])"
   ]
  },
  {
   "cell_type": "markdown",
   "metadata": {},
   "source": [
    "Now, build up to 200p"
   ]
  },
  {
   "cell_type": "code",
   "execution_count": 69,
   "metadata": {},
   "outputs": [],
   "source": [
    "ans_10p5p2p1p = ans_5p2p1p[:10]\n",
    "for i in range(10,MAX_N+1):\n",
    "    ans_10p5p2p1p.append(ans_5p2p1p[i] + ans_10p5p2p1p[i-10])"
   ]
  },
  {
   "cell_type": "code",
   "execution_count": 70,
   "metadata": {},
   "outputs": [],
   "source": [
    "ans_20p10p5p2p1p = ans_10p5p2p1p[:20]\n",
    "for i in range(20,MAX_N+1):\n",
    "    ans_20p10p5p2p1p.append(ans_10p5p2p1p[i] + ans_20p10p5p2p1p[i-20])"
   ]
  },
  {
   "cell_type": "code",
   "execution_count": 71,
   "metadata": {},
   "outputs": [],
   "source": [
    "ans_50p20p10p5p2p1p = ans_20p10p5p2p1p[:50]\n",
    "for i in range(50,MAX_N+1):\n",
    "    ans_50p20p10p5p2p1p.append(ans_20p10p5p2p1p[i] + ans_50p20p10p5p2p1p[i-50])"
   ]
  },
  {
   "cell_type": "code",
   "execution_count": 72,
   "metadata": {},
   "outputs": [],
   "source": [
    "ans_100p50p20p10p5p2p1p = ans_50p20p10p5p2p1p[:100]\n",
    "for i in range(100,MAX_N+1):\n",
    "    ans_100p50p20p10p5p2p1p.append(ans_50p20p10p5p2p1p[i] + ans_100p50p20p10p5p2p1p[i-100])"
   ]
  },
  {
   "cell_type": "code",
   "execution_count": 73,
   "metadata": {},
   "outputs": [],
   "source": [
    "ans_200p100p50p20p10p5p2p1p = ans_100p50p20p10p5p2p1p[:200]\n",
    "for i in range(200,MAX_N+1):\n",
    "    ans_200p100p50p20p10p5p2p1p.append(ans_100p50p20p10p5p2p1p[i] + ans_200p100p50p20p10p5p2p1p[i-200])"
   ]
  },
  {
   "cell_type": "markdown",
   "metadata": {},
   "source": [
    "# Solution"
   ]
  },
  {
   "cell_type": "code",
   "execution_count": 84,
   "metadata": {},
   "outputs": [
    {
     "name": "stdout",
     "output_type": "stream",
     "text": [
      "4563\n",
      "321335886\n",
      "296710490\n",
      "836633026\n"
     ]
    }
   ],
   "source": [
    "for N in N_list:\n",
    "    print(ans_200p100p50p20p10p5p2p1p[N]% (10**9+7))"
   ]
  },
  {
   "cell_type": "code",
   "execution_count": null,
   "metadata": {},
   "outputs": [],
   "source": []
  }
 ],
 "metadata": {
  "kernelspec": {
   "display_name": "Python 3",
   "language": "python",
   "name": "python3"
  },
  "language_info": {
   "codemirror_mode": {
    "name": "ipython",
    "version": 3
   },
   "file_extension": ".py",
   "mimetype": "text/x-python",
   "name": "python",
   "nbconvert_exporter": "python",
   "pygments_lexer": "ipython3",
   "version": "3.7.7"
  }
 },
 "nbformat": 4,
 "nbformat_minor": 4
}
