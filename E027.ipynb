{
 "cells": [
  {
   "cell_type": "markdown",
   "metadata": {},
   "source": [
    "![](problem_statements/E027.png)"
   ]
  },
  {
   "cell_type": "markdown",
   "metadata": {},
   "source": [
    "# Input"
   ]
  },
  {
   "cell_type": "code",
   "execution_count": 1,
   "metadata": {},
   "outputs": [
    {
     "name": "stdout",
     "output_type": "stream",
     "text": [
      "2000\n"
     ]
    }
   ],
   "source": [
    "N = int(input().strip())"
   ]
  },
  {
   "cell_type": "markdown",
   "metadata": {},
   "source": [
    "# Steps\n",
    "\n",
    "We can constrain the search space for $a$ and $b$, by noting that in the quadratic formula:\n",
    "\n",
    "$Q(n) = n^2 + an + b$\n",
    "\n",
    "putting $n=0$, we infer that $b$ has to be positive and prime for $Q(0)$ to be prime, and for $Q(1) = 1+a+b$ to be prime (and hence odd, because all primes other than $2$ are odd), we need $a$ to be odd.\n",
    "\n",
    "Also as $Q(b) = b^2+ab+b$ is not prime, so the maximum length of the sequence can be $b$. \n",
    "\n",
    "First, get a list of primes..."
   ]
  },
  {
   "cell_type": "code",
   "execution_count": 3,
   "metadata": {},
   "outputs": [],
   "source": [
    "def get_primes(num):\n",
    "    \"Return a list of all primes <= N\"\n",
    "    \n",
    "    #Start with the initialization of all numbers from 1 to num as prime=True\n",
    "    prime = [True if i>=2 else False for i in range(num + 1)]\n",
    "    \n",
    "    #Now, run a index from 2 to sqrt(num)\n",
    "    i = 2\n",
    "    while i*i<=num:\n",
    "        #If i is prime, all multiples of i which are <=num will be composite...\n",
    "        if prime[i]:\n",
    "            for j in range(i*2,num+1,i):\n",
    "                prime[j]=False\n",
    "        i+=1\n",
    "    #Now, list all the primes - i.e. all n such that prime[n]==True\n",
    "    ans = []\n",
    "    for i in range(num+1):\n",
    "        if prime[i]:\n",
    "            ans.append(i)\n",
    "    return ans"
   ]
  },
  {
   "cell_type": "code",
   "execution_count": 4,
   "metadata": {},
   "outputs": [],
   "source": [
    "primes_list = get_primes(10**5)"
   ]
  },
  {
   "cell_type": "markdown",
   "metadata": {},
   "source": [
    "We will check for primes using binary search..."
   ]
  },
  {
   "cell_type": "code",
   "execution_count": 5,
   "metadata": {},
   "outputs": [],
   "source": [
    "def binary_search(item):\n",
    "    \"Function to check if item is in primes_list\"\n",
    "    start,end = 0,len(primes_list)-1\n",
    "    while start<=end:\n",
    "        midpoint = (start+end)//2\n",
    "        if item==primes_list[midpoint]:\n",
    "            return True\n",
    "        elif item<primes_list[midpoint]:\n",
    "            end = midpoint - 1\n",
    "        elif item>primes_list[midpoint]:\n",
    "            start = midpoint + 1\n",
    "    else:\n",
    "        return False\n",
    "\n",
    "def check_prime(item):\n",
    "    if item<10**5:\n",
    "        return binary_search(item)\n",
    "    elif item<10**10:\n",
    "        for p in primes_list:\n",
    "            if item%p==0:\n",
    "                return False\n",
    "        else:\n",
    "            return True"
   ]
  },
  {
   "cell_type": "markdown",
   "metadata": {},
   "source": [
    "Code to get the length of consecutive primes from a given $a,b$"
   ]
  },
  {
   "cell_type": "code",
   "execution_count": 6,
   "metadata": {},
   "outputs": [],
   "source": [
    "def get_consecutive_primes_length(a,b):\n",
    "    \"Get the length of sequence with maximum consecutive primes\"\n",
    "    n = 0\n",
    "    Q = lambda x:x**2 + a*x + b\n",
    "    while check_prime(Q(n)):\n",
    "        n += 1\n",
    "    return n"
   ]
  },
  {
   "cell_type": "markdown",
   "metadata": {},
   "source": [
    "Allowed values of $a$ and $b$. As the the length of consecutive primes is bounded by $b$, start searching from the larger end for $b$."
   ]
  },
  {
   "cell_type": "code",
   "execution_count": 7,
   "metadata": {},
   "outputs": [],
   "source": [
    "b_list = [x for x in primes_list if x<=N]\n",
    "b_list.reverse()\n",
    "a_list = list(range(-(N if N%2==1 else N-1),N if N%2==0 else N+1,2))"
   ]
  },
  {
   "cell_type": "markdown",
   "metadata": {},
   "source": [
    "Run a loop on *b_list* and *a_list* to find the maximum length of primes"
   ]
  },
  {
   "cell_type": "markdown",
   "metadata": {},
   "source": [
    "# Solution"
   ]
  },
  {
   "cell_type": "code",
   "execution_count": 8,
   "metadata": {},
   "outputs": [],
   "source": [
    "solution = 0\n",
    "\n",
    "for b in filter(lambda x:x>=solution,b_list):\n",
    "    for a in a_list:\n",
    "        chk = get_consecutive_primes_length(a,b)\n",
    "        if chk>solution:\n",
    "            solution = chk\n",
    "            a_ans,b_ans = a,b"
   ]
  },
  {
   "cell_type": "code",
   "execution_count": 9,
   "metadata": {},
   "outputs": [
    {
     "name": "stdout",
     "output_type": "stream",
     "text": [
      "-79 1601\n"
     ]
    }
   ],
   "source": [
    "print(a_ans,b_ans)"
   ]
  },
  {
   "cell_type": "code",
   "execution_count": 10,
   "metadata": {},
   "outputs": [
    {
     "name": "stdout",
     "output_type": "stream",
     "text": [
      "8.94166111946106\n"
     ]
    }
   ],
   "source": []
  }
 ],
 "metadata": {
  "kernelspec": {
   "display_name": "Python 3",
   "language": "python",
   "name": "python3"
  },
  "language_info": {
   "codemirror_mode": {
    "name": "ipython",
    "version": 3
   },
   "file_extension": ".py",
   "mimetype": "text/x-python",
   "name": "python",
   "nbconvert_exporter": "python",
   "pygments_lexer": "ipython3",
   "version": "3.7.7"
  }
 },
 "nbformat": 4,
 "nbformat_minor": 4
}
