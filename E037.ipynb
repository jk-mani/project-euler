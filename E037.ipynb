{
 "cells": [
  {
   "cell_type": "markdown",
   "metadata": {},
   "source": [
    "![](problem_statements/E037.png)"
   ]
  },
  {
   "cell_type": "markdown",
   "metadata": {},
   "source": [
    "# Input"
   ]
  },
  {
   "cell_type": "code",
   "execution_count": 1,
   "metadata": {},
   "outputs": [
    {
     "name": "stdout",
     "output_type": "stream",
     "text": [
      "100\n"
     ]
    }
   ],
   "source": [
    "N = int(input().strip())"
   ]
  },
  {
   "cell_type": "markdown",
   "metadata": {},
   "source": [
    "# Steps\n",
    "\n",
    "List all primes... and binary search for primality testing"
   ]
  },
  {
   "cell_type": "code",
   "execution_count": 4,
   "metadata": {},
   "outputs": [],
   "source": [
    "def get_primes(num):\n",
    "    \"Return a list of all primes < N\"\n",
    "    \n",
    "    #Start with the initialization of all numbers from 1 to num as prime=True\n",
    "    prime = [True if i>=2 else False for i in range(num)]\n",
    "    \n",
    "    #Now, run a index from 2 to sqrt(num)\n",
    "    i = 2\n",
    "    while i*i<num:\n",
    "        #If i is prime, all multiples of i which are <=num will be composite...\n",
    "        if prime[i]:\n",
    "            for j in range(i*2,num,i):\n",
    "                prime[j]=False\n",
    "        i+=1\n",
    "    #Now, list all the primes - i.e. all n such that prime[n]==True\n",
    "    ans = []\n",
    "    for i in range(num):\n",
    "        if prime[i]:\n",
    "            ans.append(i)\n",
    "    return ans"
   ]
  },
  {
   "cell_type": "code",
   "execution_count": 5,
   "metadata": {},
   "outputs": [],
   "source": [
    "primes_list = get_primes(N)"
   ]
  },
  {
   "cell_type": "code",
   "execution_count": 19,
   "metadata": {},
   "outputs": [],
   "source": [
    "def binary_search(item):\n",
    "    \"Check if item is prime\"\n",
    "    start,end = 0,len(primes_list)-1\n",
    "    while start<=end:\n",
    "        midpoint = (start+end)//2\n",
    "        if item==primes_list[midpoint]:\n",
    "            return True\n",
    "        elif item<primes_list[midpoint]:\n",
    "            end = midpoint - 1\n",
    "        elif item>primes_list[midpoint]:\n",
    "            start = midpoint + 1\n",
    "    else:\n",
    "        return False"
   ]
  },
  {
   "cell_type": "markdown",
   "metadata": {},
   "source": [
    "Now, a definition to list all the left and right truncations of a number..."
   ]
  },
  {
   "cell_type": "code",
   "execution_count": 11,
   "metadata": {},
   "outputs": [],
   "source": [
    "def get_truncations(num):\n",
    "    #left-truncations\n",
    "    ls_left = []\n",
    "    n = num//10\n",
    "    while n>0:\n",
    "        ls_left.append(n)\n",
    "        n//=10\n",
    "    #Now right-truncations\n",
    "    ls_right = []\n",
    "    for n in range(1,len(str(num))):\n",
    "        ls_right.append(num%(10**n))\n",
    "    return ls_left+ls_right"
   ]
  },
  {
   "cell_type": "markdown",
   "metadata": {},
   "source": [
    "# Solution"
   ]
  },
  {
   "cell_type": "code",
   "execution_count": 17,
   "metadata": {},
   "outputs": [
    {
     "data": {
      "text/plain": [
       "11"
      ]
     },
     "execution_count": 17,
     "metadata": {},
     "output_type": "execute_result"
    }
   ],
   "source": [
    "primes_list[4]"
   ]
  },
  {
   "cell_type": "code",
   "execution_count": 20,
   "metadata": {},
   "outputs": [],
   "source": [
    "ans = 0\n",
    "for p in primes_list[4:]:\n",
    "    chk = all(map(binary_search,get_truncations(p)))\n",
    "    if chk:\n",
    "        ans += p"
   ]
  },
  {
   "cell_type": "code",
   "execution_count": 21,
   "metadata": {},
   "outputs": [
    {
     "name": "stdout",
     "output_type": "stream",
     "text": [
      "186\n"
     ]
    }
   ],
   "source": [
    "print(ans)"
   ]
  },
  {
   "cell_type": "code",
   "execution_count": null,
   "metadata": {},
   "outputs": [],
   "source": []
  }
 ],
 "metadata": {
  "kernelspec": {
   "display_name": "Python 3",
   "language": "python",
   "name": "python3"
  },
  "language_info": {
   "codemirror_mode": {
    "name": "ipython",
    "version": 3
   },
   "file_extension": ".py",
   "mimetype": "text/x-python",
   "name": "python",
   "nbconvert_exporter": "python",
   "pygments_lexer": "ipython3",
   "version": "3.7.7"
  }
 },
 "nbformat": 4,
 "nbformat_minor": 4
}
