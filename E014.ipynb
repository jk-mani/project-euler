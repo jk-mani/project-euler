{
 "cells": [
  {
   "cell_type": "markdown",
   "metadata": {},
   "source": [
    "![](problem_statements/E014.png)"
   ]
  },
  {
   "cell_type": "markdown",
   "metadata": {},
   "source": [
    "# Input"
   ]
  },
  {
   "cell_type": "code",
   "execution_count": null,
   "metadata": {},
   "outputs": [],
   "source": [
    "T = int(input().strip())"
   ]
  },
  {
   "cell_type": "code",
   "execution_count": null,
   "metadata": {},
   "outputs": [],
   "source": [
    "N_list = []\n",
    "for _ in range(T):\n",
    "    N_list.append(int(input().strip()))"
   ]
  },
  {
   "cell_type": "markdown",
   "metadata": {},
   "source": [
    "# Steps"
   ]
  },
  {
   "cell_type": "code",
   "execution_count": null,
   "metadata": {},
   "outputs": [],
   "source": [
    "#Set the initial sequence lengths to infinity...\n",
    "MAX_N = 5*10**6\n",
    "computed_collatz_sequence_length = [0]*(MAX_N+1)\n",
    "computed_collatz_sequence_length[1] = 1"
   ]
  },
  {
   "cell_type": "code",
   "execution_count": null,
   "metadata": {},
   "outputs": [],
   "source": [
    "def recursive_sequence_length(num):\n",
    "    if num<=MAX_N and computed_collatz_sequence_length[num]>0:\n",
    "        return computed_collatz_sequence_length[num]\n",
    "    else:\n",
    "        ans = 1 + recursive_sequence_length(num>>1 if num%2==0 else 3*num+1)\n",
    "        if num<=MAX_N:\n",
    "            computed_collatz_sequence_length[num] = ans\n",
    "        return ans"
   ]
  },
  {
   "cell_type": "code",
   "execution_count": null,
   "metadata": {},
   "outputs": [],
   "source": [
    "for i in range(1,max(N_list)+1):\n",
    "    _ = recursive_sequence_length(i)"
   ]
  },
  {
   "cell_type": "code",
   "execution_count": null,
   "metadata": {},
   "outputs": [],
   "source": [
    "get_longest_collatz_sequence_le = lambda num: max(\n",
    "    range(num,0,-1),key = lambda x:computed_collatz_sequence_length[x])"
   ]
  },
  {
   "cell_type": "code",
   "execution_count": null,
   "metadata": {},
   "outputs": [],
   "source": [
    "#Let's compute the ans for all N form 1 to max(N_list)\n",
    "ans_ls = [0]\n",
    "current_maxlen,current_ans = 0,0\n",
    "for N in range(1,max(N_list)+1):\n",
    "    if computed_collatz_sequence_length[N]>=current_maxlen:\n",
    "        current_maxlen,current_ans = computed_collatz_sequence_length[N],N\n",
    "    ans_ls.append(current_ans)"
   ]
  },
  {
   "cell_type": "markdown",
   "metadata": {},
   "source": [
    "# Solution"
   ]
  },
  {
   "cell_type": "code",
   "execution_count": null,
   "metadata": {},
   "outputs": [],
   "source": [
    "for i in N_list:\n",
    "    print(ans_ls[i])"
   ]
  },
  {
   "cell_type": "code",
   "execution_count": null,
   "metadata": {},
   "outputs": [],
   "source": []
  }
 ],
 "metadata": {
  "kernelspec": {
   "display_name": "Python 3",
   "language": "python",
   "name": "python3"
  },
  "language_info": {
   "codemirror_mode": {
    "name": "ipython",
    "version": 3
   },
   "file_extension": ".py",
   "mimetype": "text/x-python",
   "name": "python",
   "nbconvert_exporter": "python",
   "pygments_lexer": "ipython3",
   "version": "3.7.7"
  }
 },
 "nbformat": 4,
 "nbformat_minor": 4
}
