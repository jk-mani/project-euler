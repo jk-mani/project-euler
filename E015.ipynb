{
 "cells": [
  {
   "cell_type": "markdown",
   "metadata": {},
   "source": [
    "![](problem_statements/E015.png)"
   ]
  },
  {
   "cell_type": "markdown",
   "metadata": {},
   "source": [
    "# Input"
   ]
  },
  {
   "cell_type": "code",
   "execution_count": 1,
   "metadata": {},
   "outputs": [
    {
     "name": "stdout",
     "output_type": "stream",
     "text": [
      "3\n"
     ]
    }
   ],
   "source": [
    "T = int(input().strip())"
   ]
  },
  {
   "cell_type": "code",
   "execution_count": 2,
   "metadata": {},
   "outputs": [
    {
     "name": "stdout",
     "output_type": "stream",
     "text": [
      "20 30\n",
      "30 50\n",
      "100 400\n"
     ]
    }
   ],
   "source": [
    "MN_list = []\n",
    "for _ in range(T):\n",
    "    M,N = map(int,input().strip().split(' '))\n",
    "    MN_list.append((M,N))"
   ]
  },
  {
   "cell_type": "markdown",
   "metadata": {},
   "source": [
    "# Steps\n",
    "\n",
    "As we need to move $M$ steps to the right and $N$ steps down, the number of ways of doing this is just $^{M+N}C_N$ or $^{M+N}C_M$. We coud calculate these combinations by using the formula:\n",
    "\n",
    "$^nC_r = \\frac{n!}{(n-r)!r!}$.\n",
    "\n",
    "But as this can be computationally expensive, and inaccurate for large values. let's calculate all the combinations we need using the Pascal's triangle formula:\n",
    "\n",
    "$^nC_r = ^{n-1}C_r + ^{n-1}C_{r-1}$\n",
    "\n",
    "So first, let's build Pascal's triangle from $n=0$ upwards..."
   ]
  },
  {
   "cell_type": "code",
   "execution_count": 32,
   "metadata": {},
   "outputs": [],
   "source": [
    "def get_pascals_triangle(num):\n",
    "    pascals_triangle = [[1]]\n",
    "    for row in range(1,num+1):\n",
    "        pascals_triangle.append([1])\n",
    "        for col in range(1,row):\n",
    "            pascals_triangle[row].append(pascals_triangle[row-1][col-1] + pascals_triangle[row-1][col])\n",
    "        pascals_triangle[row].append(1)\n",
    "    return pascals_triangle"
   ]
  },
  {
   "cell_type": "code",
   "execution_count": 33,
   "metadata": {},
   "outputs": [],
   "source": [
    "combinations = get_pascals_triangle(sum(max(MN_list,key = lambda x:x[0]+x[1])))"
   ]
  },
  {
   "cell_type": "markdown",
   "metadata": {},
   "source": [
    "# Solution"
   ]
  },
  {
   "cell_type": "code",
   "execution_count": 31,
   "metadata": {},
   "outputs": [
    {
     "name": "stdout",
     "output_type": "stream",
     "text": [
      "211914057\n",
      "566153828\n",
      "728779578\n"
     ]
    }
   ],
   "source": [
    "for M,N in MN_list:\n",
    "    ans = combinations[M+N][M]\n",
    "    print(ans%(10**9+7))"
   ]
  },
  {
   "cell_type": "code",
   "execution_count": null,
   "metadata": {},
   "outputs": [],
   "source": []
  }
 ],
 "metadata": {
  "kernelspec": {
   "display_name": "Python 3",
   "language": "python",
   "name": "python3"
  },
  "language_info": {
   "codemirror_mode": {
    "name": "ipython",
    "version": 3
   },
   "file_extension": ".py",
   "mimetype": "text/x-python",
   "name": "python",
   "nbconvert_exporter": "python",
   "pygments_lexer": "ipython3",
   "version": "3.7.7"
  }
 },
 "nbformat": 4,
 "nbformat_minor": 4
}
