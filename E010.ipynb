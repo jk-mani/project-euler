{
 "cells": [
  {
   "cell_type": "markdown",
   "metadata": {},
   "source": [
    "![](problem_statements/E010.png)"
   ]
  },
  {
   "cell_type": "markdown",
   "metadata": {},
   "source": [
    "# Input"
   ]
  },
  {
   "cell_type": "code",
   "execution_count": 1,
   "metadata": {},
   "outputs": [
    {
     "name": "stdout",
     "output_type": "stream",
     "text": [
      "2\n"
     ]
    }
   ],
   "source": [
    "T = int(input().strip())"
   ]
  },
  {
   "cell_type": "code",
   "execution_count": 2,
   "metadata": {},
   "outputs": [
    {
     "name": "stdout",
     "output_type": "stream",
     "text": [
      "10\n",
      "17\n"
     ]
    }
   ],
   "source": [
    "N_list = []\n",
    "for _ in range(T):\n",
    "    N_list.append(int(input().strip()))"
   ]
  },
  {
   "cell_type": "markdown",
   "metadata": {},
   "source": [
    "# Steps\n",
    "\n",
    "This solution will require definitions for:\n",
    "\n",
    "1. Find all the primes <= $N$ for a given $N$\n",
    "\n",
    "In order to find all primes, use the [Sieve of Eratosthenes](https://en.wikipedia.org/wiki/Sieve_of_Eratosthenes).\n",
    "Then the primes are summed."
   ]
  },
  {
   "cell_type": "code",
   "execution_count": 3,
   "metadata": {},
   "outputs": [],
   "source": [
    "def get_primes(num):\n",
    "    \"Return a list of all primes <= N\"\n",
    "    \n",
    "    #Start with the initialization of all numbers from 1 to num as prime=True\n",
    "    prime = [True if i>=2 else False for i in range(num + 1)]\n",
    "    \n",
    "    #Now, run a index from 2 to sqrt(num)\n",
    "    i = 2\n",
    "    while i*i<=num:\n",
    "        #If i is prime, all multiples of i which are <=num will be composite...\n",
    "        if prime[i]:\n",
    "            for j in range(i*2,num+1,i):\n",
    "                prime[j]=False\n",
    "        i+=1\n",
    "    #Now, list all the primes - i.e. all n such that prime[n]==True\n",
    "    ans = []\n",
    "    for i in range(num+1):\n",
    "        if prime[i]:\n",
    "            ans.append(i)\n",
    "    return ans"
   ]
  },
  {
   "cell_type": "markdown",
   "metadata": {},
   "source": [
    "# Unoptimized Solution\n",
    "We solve the problem in a straightforward way, applying the above function to all numbers in *N_list*, and finding the sum of the primes"
   ]
  },
  {
   "cell_type": "raw",
   "metadata": {},
   "source": [
    "'''\n",
    "for N in N_list:\n",
    "    ans = sum(get_primes(N))\n",
    "    print(ans)\n",
    "'''"
   ]
  },
  {
   "cell_type": "markdown",
   "metadata": {},
   "source": [
    "# Better Optimization\n",
    "We note that there is no need to run the get_primes code many times, it needs to ONLY be run the largest number in *N_list*, it will give us all the primes we need. Now, for every $N$ in *N_list* we take this master list of primes, and sum all the primes <=$N$"
   ]
  },
  {
   "cell_type": "code",
   "execution_count": 4,
   "metadata": {},
   "outputs": [],
   "source": [
    "master_primes_list = get_primes(max(N_list))"
   ]
  },
  {
   "cell_type": "code",
   "execution_count": 5,
   "metadata": {},
   "outputs": [],
   "source": [
    "def sum_primes_le(num):\n",
    "    \"Definition to sum all the primes in the master_primes_list <= num\"\n",
    "    ans = 0\n",
    "    for p in master_primes_list:\n",
    "        if p>num:\n",
    "            break\n",
    "        ans += p\n",
    "    return ans"
   ]
  },
  {
   "cell_type": "raw",
   "metadata": {},
   "source": [
    "'''\n",
    "for N in N_list:\n",
    "    ans = sum_primes_le(N)\n",
    "    print(ans)\n",
    "'''"
   ]
  },
  {
   "cell_type": "markdown",
   "metadata": {},
   "source": [
    "# Still Better Optimization\n",
    "\n",
    "If *N_list* was sorted, we could solve the problem even better, as there would be no need to sum from zero, we can keep a running sum. But since it is not sorted, we need to sort it first, and then, we can do a running sum of primes. We also need the indices of the sorted list that will reproduce the original."
   ]
  },
  {
   "cell_type": "code",
   "execution_count": 6,
   "metadata": {},
   "outputs": [],
   "source": [
    "sorted_N_list = sorted(N_list)"
   ]
  },
  {
   "cell_type": "code",
   "execution_count": 7,
   "metadata": {},
   "outputs": [],
   "source": [
    "args = sorted(list(range(T)),key = lambda x:N_list[x])\n",
    "assert sorted_N_list==[N_list[i] for i in args]"
   ]
  },
  {
   "cell_type": "code",
   "execution_count": 8,
   "metadata": {},
   "outputs": [],
   "source": [
    "inv_args = sorted(list(range(T)),key = lambda x:args[x])\n",
    "assert N_list == [sorted_N_list[i] for i in inv_args]"
   ]
  },
  {
   "cell_type": "markdown",
   "metadata": {},
   "source": [
    "In the above steps, we have sorted *N_list* and found the indices of *N_list* that will get us *sorted_N_list* (*args*) and the indices of *sorted_N_list* that will get us *N_list* (*inv_args*). Now, run a loop of *N* on *sorted_N_list*, and sum all primes upto *N*. As it's sorted, we need to simply keep a running value storing the sum, not start over from zero for each *N*."
   ]
  },
  {
   "cell_type": "code",
   "execution_count": 9,
   "metadata": {},
   "outputs": [],
   "source": [
    "sorted_ans = []\n",
    "current_prime_index = 0\n",
    "current_prime_sum = 0\n",
    "for N in sorted_N_list:\n",
    "    while current_prime_index<len(master_primes_list) and master_primes_list[current_prime_index]<=N:\n",
    "        current_prime_sum += master_primes_list[current_prime_index]\n",
    "        current_prime_index += 1\n",
    "    sorted_ans.append(current_prime_sum)"
   ]
  },
  {
   "cell_type": "markdown",
   "metadata": {},
   "source": [
    "Now, we have the *sorted_ans* for *sorted_N_list*, use *inv_args* to get the answers for *N_list*"
   ]
  },
  {
   "cell_type": "code",
   "execution_count": 10,
   "metadata": {},
   "outputs": [],
   "source": [
    "ans = [sorted_ans[i] for i in inv_args]"
   ]
  },
  {
   "cell_type": "code",
   "execution_count": 11,
   "metadata": {},
   "outputs": [
    {
     "name": "stdout",
     "output_type": "stream",
     "text": [
      "17\n",
      "58\n"
     ]
    }
   ],
   "source": [
    "for a in ans:\n",
    "    print(a)"
   ]
  },
  {
   "cell_type": "code",
   "execution_count": null,
   "metadata": {},
   "outputs": [],
   "source": []
  }
 ],
 "metadata": {
  "kernelspec": {
   "display_name": "Python 3",
   "language": "python",
   "name": "python3"
  },
  "language_info": {
   "codemirror_mode": {
    "name": "ipython",
    "version": 3
   },
   "file_extension": ".py",
   "mimetype": "text/x-python",
   "name": "python",
   "nbconvert_exporter": "python",
   "pygments_lexer": "ipython3",
   "version": "3.7.7"
  }
 },
 "nbformat": 4,
 "nbformat_minor": 4
}
