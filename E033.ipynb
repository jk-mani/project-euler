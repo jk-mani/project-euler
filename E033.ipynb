{
 "cells": [
  {
   "cell_type": "markdown",
   "metadata": {},
   "source": [
    "![](problem_statements/E033.png)"
   ]
  },
  {
   "cell_type": "markdown",
   "metadata": {},
   "source": [
    "# Input"
   ]
  },
  {
   "cell_type": "code",
   "execution_count": 332,
   "metadata": {},
   "outputs": [
    {
     "name": "stdout",
     "output_type": "stream",
     "text": [
      "4 1\n"
     ]
    }
   ],
   "source": [
    "N,K = map(int,input().strip().split(' '))"
   ]
  },
  {
   "cell_type": "code",
   "execution_count": 333,
   "metadata": {},
   "outputs": [],
   "source": [
    "from time import time\n",
    "T = time()"
   ]
  },
  {
   "cell_type": "markdown",
   "metadata": {},
   "source": [
    "# Steps\n",
    "\n",
    "There are several permutations and combinations we need to take into account - first, the numerator and denominator need to be split into *cancelled part* (C) and *remaining part* (R). Let's first list out the ways this can be done for numerator and denominator."
   ]
  },
  {
   "cell_type": "code",
   "execution_count": 334,
   "metadata": {},
   "outputs": [
    {
     "data": {
      "text/plain": [
       "['CRRR', 'RCRR', 'RRCR', 'RRRC']"
      ]
     },
     "execution_count": 334,
     "metadata": {},
     "output_type": "execute_result"
    }
   ],
   "source": [
    "from itertools import combinations\n",
    "split_patterns = [''.join(['C' if i in x else 'R' for i in range(N)]) for x in combinations(range(N),K)]\n",
    "split_patterns"
   ]
  },
  {
   "cell_type": "markdown",
   "metadata": {},
   "source": [
    "## Cancelled part\n",
    "\n",
    "The cancelled part will consist of digits from $0-9$. We first select $K$ digits from $0-9$ with replacement,and then list out the permutations (keeping in mind the cancellded digits in numerator and denominator need not have the same ordering)."
   ]
  },
  {
   "cell_type": "code",
   "execution_count": 335,
   "metadata": {},
   "outputs": [
    {
     "data": {
      "text/plain": [
       "\"['1', '2', '3', '4', '5', '6', '7', '8', '9']\""
      ]
     },
     "execution_count": 335,
     "metadata": {},
     "output_type": "execute_result"
    }
   ],
   "source": [
    "from itertools import combinations_with_replacement\n",
    "cancel_digits = [''.join(x) for x in combinations_with_replacement('123456789',K)]\n",
    "repr(cancel_digits)"
   ]
  },
  {
   "cell_type": "markdown",
   "metadata": {},
   "source": [
    "For each element in *cancel_digits* create a set of ways it can be permuted in numerator and denominator. Put them in sorted format as this will be of help later..."
   ]
  },
  {
   "cell_type": "code",
   "execution_count": 336,
   "metadata": {},
   "outputs": [
    {
     "data": {
      "text/plain": [
       "\"[['1'], ['2'], ['3'], ['4'], ['5'], ['6'], ['7'], ['8'], ['9']]\""
      ]
     },
     "execution_count": 336,
     "metadata": {},
     "output_type": "execute_result"
    }
   ],
   "source": [
    "from itertools import permutations\n",
    "cancel_sets = [sorted({''.join(x) for x in permutations(cd)}) for cd in cancel_digits]\n",
    "repr(cancel_sets)"
   ]
  },
  {
   "cell_type": "markdown",
   "metadata": {},
   "source": [
    "## Remaining part\n",
    "\n",
    "The remaining part in numerator and denominator will need to be of length $N-K$, and will need to be selected from the following list."
   ]
  },
  {
   "cell_type": "code",
   "execution_count": 337,
   "metadata": {},
   "outputs": [
    {
     "data": {
      "text/plain": [
       "\"['001', '002', '003', '004', '005', '006', '007', '008', '009', '010', '011', '012', '013', '014', '015', '016', '017', '018', '019', '020', '021', '022', '023', '024', '025', '026', '027', '028', '029', '030', '031', '032', '033', '034', '035', '036', '037', '038', '039', '040', '041', '042', '043', '044', '045', '046', '047', '048', '049', '050', '051', '052', '053', '054', '055', '056', '057', '058', '059', '060', '061', '062', '063', '064', '065', '066', '067', '068', '069', '070', '071', '072', '073', '074', '075', '076', '077', '078', '079', '080', '081', '082', '083', '084', '085', '086', '087', '088', '089', '090', '091', '092', '093', '094', '095', '096', '097', '098', '099', '100', '101', '102', '103', '104', '105', '106', '107', '108', '109', '110', '111', '112', '113', '114', '115', '116', '117', '118', '119', '120', '121', '122', '123', '124', '125', '126', '127', '128', '129', '130', '131', '132', '133', '134', '135', '136', '137', '138', '139', '140', '141', '142', '143', '144', '145', '146', '147', '148', '149', '150', '151', '152', '153', '154', '155', '156', '157', '158', '159', '160', '161', '162', '163', '164', '165', '166', '167', '168', '169', '170', '171', '172', '173', '174', '175', '176', '177', '178', '179', '180', '181', '182', '183', '184', '185', '186', '187', '188', '189', '190', '191', '192', '193', '194', '195', '196', '197', '198', '199', '200', '201', '202', '203', '204', '205', '206', '207', '208', '209', '210', '211', '212', '213', '214', '215', '216', '217', '218', '219', '220', '221', '222', '223', '224', '225', '226', '227', '228', '229', '230', '231', '232', '233', '234', '235', '236', '237', '238', '239', '240', '241', '242', '243', '244', '245', '246', '247', '248', '249', '250', '251', '252', '253', '254', '255', '256', '257', '258', '259', '260', '261', '262', '263', '264', '265', '266', '267', '268', '269', '270', '271', '272', '273', '274', '275', '276', '277', '278', '279', '280', '281', '282', '283', '284', '285', '286', '287', '288', '289', '290', '291', '292', '293', '294', '295', '296', '297', '298', '299', '300', '301', '302', '303', '304', '305', '306', '307', '308', '309', '310', '311', '312', '313', '314', '315', '316', '317', '318', '319', '320', '321', '322', '323', '324', '325', '326', '327', '328', '329', '330', '331', '332', '333', '334', '335', '336', '337', '338', '339', '340', '341', '342', '343', '344', '345', '346', '347', '348', '349', '350', '351', '352', '353', '354', '355', '356', '357', '358', '359', '360', '361', '362', '363', '364', '365', '366', '367', '368', '369', '370', '371', '372', '373', '374', '375', '376', '377', '378', '379', '380', '381', '382', '383', '384', '385', '386', '387', '388', '389', '390', '391', '392', '393', '394', '395', '396', '397', '398', '399', '400', '401', '402', '403', '404', '405', '406', '407', '408', '409', '410', '411', '412', '413', '414', '415', '416', '417', '418', '419', '420', '421', '422', '423', '424', '425', '426', '427', '428', '429', '430', '431', '432', '433', '434', '435', '436', '437', '438', '439', '440', '441', '442', '443', '444', '445', '446', '447', '448', '449', '450', '451', '452', '453', '454', '455', '456', '457', '458', '459', '460', '461', '462', '463', '464', '465', '466', '467', '468', '469', '470', '471', '472', '473', '474', '475', '476', '477', '478', '479', '480', '481', '482', '483', '484', '485', '486', '487', '488', '489', '490', '491', '492', '493', '494', '495', '496', '497', '498', '499', '500', '501', '502', '503', '504', '505', '506', '507', '508', '509', '510', '511', '512', '513', '514', '515', '516', '517', '518', '519', '520', '521', '522', '523', '524', '525', '526', '527', '528', '529', '530', '531', '532', '533', '534', '535', '536', '537', '538', '539', '540', '541', '542', '543', '544', '545', '546', '547', '548', '549', '550', '551', '552', '553', '554', '555', '556', '557', '558', '559', '560', '561', '562', '563', '564', '565', '566', '567', '568', '569', '570', '571', '572', '573', '574', '575', '576', '577', '578', '579', '580', '581', '582', '583', '584', '585', '586', '587', '588', '589', '590', '591', '592', '593', '594', '595', '596', '597', '598', '599', '600', '601', '602', '603', '604', '605', '606', '607', '608', '609', '610', '611', '612', '613', '614', '615', '616', '617', '618', '619', '620', '621', '622', '623', '624', '625', '626', '627', '628', '629', '630', '631', '632', '633', '634', '635', '636', '637', '638', '639', '640', '641', '642', '643', '644', '645', '646', '647', '648', '649', '650', '651', '652', '653', '654', '655', '656', '657', '658', '659', '660', '661', '662', '663', '664', '665', '666', '667', '668', '669', '670', '671', '672', '673', '674', '675', '676', '677', '678', '679', '680', '681', '682', '683', '684', '685', '686', '687', '688', '689', '690', '691', '692', '693', '694', '695', '696', '697', '698', '699', '700', '701', '702', '703', '704', '705', '706', '707', '708', '709', '710', '711', '712', '713', '714', '715', '716', '717', '718', '719', '720', '721', '722', '723', '724', '725', '726', '727', '728', '729', '730', '731', '732', '733', '734', '735', '736', '737', '738', '739', '740', '741', '742', '743', '744', '745', '746', '747', '748', '749', '750', '751', '752', '753', '754', '755', '756', '757', '758', '759', '760', '761', '762', '763', '764', '765', '766', '767', '768', '769', '770', '771', '772', '773', '774', '775', '776', '777', '778', '779', '780', '781', '782', '783', '784', '785', '786', '787', '788', '789', '790', '791', '792', '793', '794', '795', '796', '797', '798', '799', '800', '801', '802', '803', '804', '805', '806', '807', '808', '809', '810', '811', '812', '813', '814', '815', '816', '817', '818', '819', '820', '821', '822', '823', '824', '825', '826', '827', '828', '829', '830', '831', '832', '833', '834', '835', '836', '837', '838', '839', '840', '841', '842', '843', '844', '845', '846', '847', '848', '849', '850', '851', '852', '853', '854', '855', '856', '857', '858', '859', '860', '861', '862', '863', '864', '865', '866', '867', '868', '869', '870', '871', '872', '873', '874', '875', '876', '877', '878', '879', '880', '881', '882', '883', '884', '885', '886', '887', '888', '889', '890', '891', '892', '893', '894', '895', '896', '897', '898', '899', '900', '901', '902', '903', '904', '905', '906', '907', '908', '909', '910', '911', '912', '913', '914', '915', '916', '917', '918', '919', '920', '921', '922', '923', '924', '925', '926', '927', '928', '929', '930', '931', '932', '933', '934', '935', '936', '937', '938', '939', '940', '941', '942', '943', '944', '945', '946', '947', '948', '949', '950', '951', '952', '953', '954', '955', '956', '957', '958', '959', '960', '961', '962', '963', '964', '965', '966', '967', '968', '969', '970', '971', '972', '973', '974', '975', '976', '977', '978', '979', '980', '981', '982', '983', '984', '985', '986', '987', '988', '989', '990', '991', '992', '993', '994', '995', '996', '997', '998', '999']\""
      ]
     },
     "execution_count": 337,
     "metadata": {},
     "output_type": "execute_result"
    }
   ],
   "source": [
    "from itertools import product\n",
    "remaining_list = [''.join(x) for x in product('0123456789',repeat=N-K)]\n",
    "remaining_list.remove('0'*(N-K)) #The fraction value will never be zero\n",
    "repr(remaining_list)"
   ]
  },
  {
   "cell_type": "markdown",
   "metadata": {},
   "source": [
    "## F-strings for patterns"
   ]
  },
  {
   "cell_type": "markdown",
   "metadata": {},
   "source": [
    "Now, a definition to get the lambda functions that will use f-srings to merge the *cancelled_part* and *remaining_part*."
   ]
  },
  {
   "cell_type": "code",
   "execution_count": 338,
   "metadata": {},
   "outputs": [],
   "source": [
    "def get_fstring_merge(pat):\n",
    "    ans = \"lambda can,rem: f'\"\n",
    "    c_index = r_index = 0\n",
    "    for char in pat:\n",
    "        if char=='C':\n",
    "            ans += (\"{can[\" + str(c_index) + \"]}\")\n",
    "            c_index += 1\n",
    "        elif char=='R':\n",
    "            ans += (\"{rem[\" + str(r_index) + \"]}\")\n",
    "            r_index += 1\n",
    "    ans += \"'\"\n",
    "    return ans"
   ]
  },
  {
   "cell_type": "code",
   "execution_count": 339,
   "metadata": {},
   "outputs": [],
   "source": [
    "merge_funcs_dict = {}\n",
    "for pat in split_patterns:\n",
    "    merge_funcs_dict[pat] = eval(get_fstring_merge(pat),{},{})"
   ]
  },
  {
   "cell_type": "code",
   "execution_count": 340,
   "metadata": {},
   "outputs": [],
   "source": [
    "merge_funcs_list = list(merge_funcs_dict.values())"
   ]
  },
  {
   "cell_type": "markdown",
   "metadata": {},
   "source": [
    "# Unoptimized Solution\n",
    "\n",
    "Loop over all possible combinations..."
   ]
  },
  {
   "cell_type": "markdown",
   "metadata": {},
   "source": [
    "## Loop over cancelled parts for fixed pattern and remaining parts\n",
    "\n",
    "Given a pattern for the numerator and denominator, as well as the remaining parts of both, write a definition that will loop over all possible combinations of cancelled parts to check if they satisfy the condition. Keep a set to update all the allowed fractions..."
   ]
  },
  {
   "cell_type": "code",
   "execution_count": 341,
   "metadata": {},
   "outputs": [],
   "source": [
    "def fun_A(merge_num,merge_den,rem_num,rem_den,fraction_value):\n",
    "    ans = []\n",
    "    for cd in cancel_sets:\n",
    "        #cd consists of the set of digits we will cancel...\n",
    "        f_parts = [(merge_num(can_num,rem_num),merge_den(can_den,rem_den)) for can_num in cd for can_den in cd]\n",
    "        #Apply the condition to f_parts and update solution...\n",
    "        sol.update([x for x in f_parts if int(x[0])/int(x[1])==fraction_value])"
   ]
  },
  {
   "cell_type": "markdown",
   "metadata": {},
   "source": [
    "## Loop over all patterns for fixed remaining parts"
   ]
  },
  {
   "cell_type": "code",
   "execution_count": 342,
   "metadata": {},
   "outputs": [],
   "source": [
    "def fun_B(rem_num,rem_den):\n",
    "    fraction_value = int(rem_num)/int(rem_den)\n",
    "    for pat_num in split_patterns:\n",
    "        if pat_num.startswith('R') and rem_num.startswith('0'):\n",
    "            continue\n",
    "        merge_num = merge_funcs_dict[pat_num]\n",
    "        for pat_den in split_patterns:\n",
    "            if pat_den.startswith('R') and rem_den.startswith('0'):\n",
    "                continue\n",
    "            merge_den = merge_funcs_dict[pat_den]\n",
    "            _ = fun_A(merge_num,merge_den,rem_num,rem_den,fraction_value)"
   ]
  },
  {
   "cell_type": "raw",
   "metadata": {},
   "source": [
    "'''\n",
    "sol = set()\n",
    "for rem_num in remaining_list:\n",
    "    for rem_den in filter(lambda x:x>rem_num,remaining_list):\n",
    "        _ = fun_B(rem_num,rem_den)\n",
    "\n",
    "tot_num = tot_den = 0\n",
    "for num,den in sol:\n",
    "    tot_num += int(num)\n",
    "    tot_den += int(den)\n",
    "\n",
    "print(tot_num,tot_den)\n",
    "'''"
   ]
  },
  {
   "cell_type": "markdown",
   "metadata": {},
   "source": [
    "# Optimized Solution\n",
    "\n",
    "We can optimize the functions by using\n",
    "\n",
    "$\\frac{\\text{num}}{\\text{den}} = \\frac{\\text{rem_num}}{\\text{rem_den}} = \\text{fraction}$\n",
    "\n",
    "So no need to run a loop over denominators. Also make use of dictionaries to get all the wholes from the remaining, utilizing their speed."
   ]
  },
  {
   "cell_type": "markdown",
   "metadata": {},
   "source": [
    "## Nested Dictionaries from remaining part to whole\n",
    "\n",
    "Create a dictionary of dictionaries which will take you from remaining part to whole given any cancelled part."
   ]
  },
  {
   "cell_type": "code",
   "execution_count": 343,
   "metadata": {},
   "outputs": [],
   "source": [
    "master_mapper = {}\n",
    "for rem in remaining_list:\n",
    "    tmp_dict = {}\n",
    "    for can in cancel_sets:\n",
    "        tmp_set = {int(merge(can_ord,rem)) for can_ord in can for merge in merge_funcs_list if \n",
    "                   not merge(can_ord,rem).startswith('0')}\n",
    "        for can_ord in can:\n",
    "            tmp_dict[can_ord] = tmp_set\n",
    "    master_mapper[rem] = tmp_dict"
   ]
  },
  {
   "cell_type": "markdown",
   "metadata": {},
   "source": [
    "So in order to extract the possible wholes for a given rem and cancelled part, simple use \n",
    "\n",
    "$\\text{master_mapper[rem][can]}$\n",
    "\n",
    "Here $\\text{can}$ can be provided in any order, and it will extract what we need..."
   ]
  },
  {
   "cell_type": "code",
   "execution_count": 344,
   "metadata": {},
   "outputs": [],
   "source": [
    "#Flatten out the can_num_list...\n",
    "can_list = [y for x in cancel_sets for y in x]\n",
    "#Solution set...\n",
    "opt_sol = set()"
   ]
  },
  {
   "cell_type": "code",
   "execution_count": 345,
   "metadata": {},
   "outputs": [],
   "source": [
    "def fun_opt(rem_num,rem_den):\n",
    "    fraction = int(rem_num)/int(rem_den)\n",
    "    for can in can_list:\n",
    "        for num in master_mapper[rem_num][can]:\n",
    "            den = int(num)/fraction\n",
    "            round_den = round(den)\n",
    "            if abs(den - round_den)<1.0e-10 and round_den in master_mapper[rem_den][can]:\n",
    "                opt_sol.add((num,round_den))"
   ]
  },
  {
   "cell_type": "code",
   "execution_count": 346,
   "metadata": {},
   "outputs": [
    {
     "name": "stdout",
     "output_type": "stream",
     "text": [
      "12999936 28131911\n"
     ]
    }
   ],
   "source": [
    "for rem_num in remaining_list:\n",
    "    for rem_den in filter(lambda x:x>rem_num,remaining_list):\n",
    "        _= fun_opt(rem_num,rem_den)\n",
    "\n",
    "tot_num = tot_den = 0\n",
    "for num,den in opt_sol:\n",
    "    tot_num += num\n",
    "    tot_den += den\n",
    "\n",
    "print(tot_num,tot_den)"
   ]
  },
  {
   "cell_type": "code",
   "execution_count": 347,
   "metadata": {},
   "outputs": [
    {
     "data": {
      "text/plain": [
       "8.553580522537231"
      ]
     },
     "execution_count": 347,
     "metadata": {},
     "output_type": "execute_result"
    }
   ],
   "source": [
    "time()-T"
   ]
  },
  {
   "cell_type": "markdown",
   "metadata": {},
   "source": [
    "# Multiprocessing"
   ]
  },
  {
   "cell_type": "raw",
   "metadata": {},
   "source": [
    "'''\n",
    "import multiprocessing as mp\n",
    "\n",
    "def mp_fun(rem_num):\n",
    "    part_sol = set()\n",
    "    for rem_den in filter(lambda x:x>rem_num,remaining_list):\n",
    "        part_sol.update(fun_opt(rem_num,rem_den))\n",
    "    return part_sol\n",
    "\n",
    "if __name__=='__main__':\n",
    "    pool = mp.Pool(mp.cpu_count()-1)\n",
    "    ls_ans = pool.map(mp_fun,remaining_list)\n",
    "    pool.close()\n",
    "    pool.join()\n",
    "\n",
    "mp_sol = set()\n",
    "for ans in ls_ans:\n",
    "    mp_sol.update(ans)\n",
    "\n",
    "tot_num = tot_den = 0\n",
    "for num,den in mp_sol:\n",
    "    tot_num += int(num)\n",
    "    tot_den += int(den)\n",
    "\n",
    "print(tot_num,tot_den)\n",
    "'''"
   ]
  },
  {
   "cell_type": "code",
   "execution_count": null,
   "metadata": {},
   "outputs": [],
   "source": []
  }
 ],
 "metadata": {
  "kernelspec": {
   "display_name": "Python 3",
   "language": "python",
   "name": "python3"
  },
  "language_info": {
   "codemirror_mode": {
    "name": "ipython",
    "version": 3
   },
   "file_extension": ".py",
   "mimetype": "text/x-python",
   "name": "python",
   "nbconvert_exporter": "python",
   "pygments_lexer": "ipython3",
   "version": "3.7.7"
  }
 },
 "nbformat": 4,
 "nbformat_minor": 4
}
