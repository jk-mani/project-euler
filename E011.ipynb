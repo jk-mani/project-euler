{
 "cells": [
  {
   "cell_type": "markdown",
   "metadata": {},
   "source": [
    "![](problem_statements/E011.png)"
   ]
  },
  {
   "cell_type": "markdown",
   "metadata": {},
   "source": [
    "# Input"
   ]
  },
  {
   "cell_type": "code",
   "execution_count": null,
   "metadata": {},
   "outputs": [],
   "source": [
    "grid = []\n",
    "for _ in range(20):\n",
    "    line = list(map(int,input().strip().split(' ')))\n",
    "    grid.append(line)"
   ]
  },
  {
   "cell_type": "markdown",
   "metadata": {},
   "source": [
    "# Steps\n",
    "\n",
    "There are 4 types of crossings we need to calculate horizontaal, vertical, leading diagonal, and and counter-diagonal. For each, write a loop to search for all possible combinations of adjacent numbers. Keep a running maximum value and update it whenever the current value exceeds the running maximum."
   ]
  },
  {
   "cell_type": "code",
   "execution_count": null,
   "metadata": {},
   "outputs": [],
   "source": [
    "max_val = 0"
   ]
  },
  {
   "cell_type": "code",
   "execution_count": null,
   "metadata": {},
   "outputs": [],
   "source": [
    "#Horizontal...\n",
    "for row in range(20):\n",
    "    for col in range(17):\n",
    "        val = grid[row][col] * grid[row][col+1] * grid[row][col+2] * grid[row][col+3]\n",
    "        #print(grid[row][col],grid[row][col+1],grid[row][col+2],grid[row][col+3])\n",
    "        max_val = max(max_val,val)"
   ]
  },
  {
   "cell_type": "code",
   "execution_count": null,
   "metadata": {},
   "outputs": [],
   "source": [
    "#Vertical...\n",
    "for col in range(20):\n",
    "    for row in range(17):\n",
    "        val = grid[row][col] * grid[row+1][col] * grid[row+2][col] * grid[row+3][col]\n",
    "        max_val = max(max_val,val)"
   ]
  },
  {
   "cell_type": "code",
   "execution_count": null,
   "metadata": {},
   "outputs": [],
   "source": [
    "#Leading Diagonal...\n",
    "for row in range(17):\n",
    "    for col in range(17):\n",
    "        val = grid[row][col] * grid[row+1][col+1] * grid[row+2][col+2] * grid[row+3][col+3]\n",
    "        print(grid[row][col],grid[row+1][col+1],grid[row+2][col+2],grid[row+3][col+3])\n",
    "        max_val = max(max_val,val)"
   ]
  },
  {
   "cell_type": "code",
   "execution_count": null,
   "metadata": {},
   "outputs": [],
   "source": [
    "#Counter Diagonal\n",
    "for row in range(3,20):\n",
    "    for col in range(17):\n",
    "        val = grid[row][col] * grid[row-1][col+1] * grid[row-2][col+2] * grid[row-3][col+3]\n",
    "        max_val = max(max_val,val)"
   ]
  },
  {
   "cell_type": "markdown",
   "metadata": {},
   "source": [
    "# Output"
   ]
  },
  {
   "cell_type": "code",
   "execution_count": null,
   "metadata": {},
   "outputs": [],
   "source": [
    "print(max_val)"
   ]
  },
  {
   "cell_type": "code",
   "execution_count": null,
   "metadata": {},
   "outputs": [],
   "source": []
  }
 ],
 "metadata": {
  "kernelspec": {
   "display_name": "Python 3",
   "language": "python",
   "name": "python3"
  },
  "language_info": {
   "codemirror_mode": {
    "name": "ipython",
    "version": 3
   },
   "file_extension": ".py",
   "mimetype": "text/x-python",
   "name": "python",
   "nbconvert_exporter": "python",
   "pygments_lexer": "ipython3",
   "version": "3.7.7"
  }
 },
 "nbformat": 4,
 "nbformat_minor": 4
}
