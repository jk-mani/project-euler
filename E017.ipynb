{
 "cells": [
  {
   "cell_type": "markdown",
   "metadata": {},
   "source": [
    "![](problem_statements/E017.png)"
   ]
  },
  {
   "cell_type": "markdown",
   "metadata": {},
   "source": [
    "# Input"
   ]
  },
  {
   "cell_type": "code",
   "execution_count": 1,
   "metadata": {},
   "outputs": [
    {
     "name": "stdout",
     "output_type": "stream",
     "text": [
      "5\n"
     ]
    }
   ],
   "source": [
    "T = int(input().strip())"
   ]
  },
  {
   "cell_type": "code",
   "execution_count": 3,
   "metadata": {},
   "outputs": [
    {
     "name": "stdout",
     "output_type": "stream",
     "text": [
      "1234\n",
      "23445\n",
      "1110000\n",
      "4999102\n",
      "234231\n"
     ]
    }
   ],
   "source": [
    "N_list = []\n",
    "for _ in range(T):\n",
    "    N_list.append(input().strip())"
   ]
  },
  {
   "cell_type": "markdown",
   "metadata": {},
   "source": [
    "# Steps\n",
    "\n",
    "Write a definition to split a number into 3-digit groupings.."
   ]
  },
  {
   "cell_type": "code",
   "execution_count": 17,
   "metadata": {},
   "outputs": [],
   "source": [
    "def split_digits(num):\n",
    "    shift = 3 if len(num)%3==0 else len(num)%3\n",
    "    ls = [num[:shift]]\n",
    "    while ls[-1]:\n",
    "        ls.append(num[shift:shift+3])\n",
    "        shift += 3\n",
    "    return ls[:-1]"
   ]
  },
  {
   "cell_type": "markdown",
   "metadata": {},
   "source": [
    "Write a definition to process a three digit number and convert it into words"
   ]
  },
  {
   "cell_type": "code",
   "execution_count": 27,
   "metadata": {},
   "outputs": [],
   "source": [
    "digits_to_words = {'1':'One','2':'Two','3':'Three','4':'Four','5':'Five','6':'Six','7':'Seven','8':'Eight',\n",
    "'9':'Nine','01':'One','02':'Two','03':'Three','04':'Four','05':'Five','06':'Six','07':'Seven','08':'Eight',\n",
    "'09':'Nine','10':'Ten','11':'Eleven','12':'Twelve','13':'Thirteen','14':'Fourteen','15':'Fifteen',\n",
    "                   '16':'Sixteen','17':'Seventeen','18':'Eighteen','19':'Nineteen'}"
   ]
  },
  {
   "cell_type": "code",
   "execution_count": 42,
   "metadata": {},
   "outputs": [],
   "source": [
    "tens_to_words = {'2':'Twenty','3':'Thirty','4':'Forty','5':'Fifty','6':'Sixty','7':'Seventy','8':'Eighty',\n",
    "                '9':'Ninety'}"
   ]
  },
  {
   "cell_type": "code",
   "execution_count": 111,
   "metadata": {},
   "outputs": [],
   "source": [
    "def number_to_words_3d(num_3d):\n",
    "    \"Convert any 3-digit number into words\"\n",
    "    assert len(num_3d)<=3\n",
    "    parts = []\n",
    "    try:\n",
    "        #Here we dael with the hundreds digit (if it exists..)\n",
    "        parts.append(digits_to_words[num_3d[-3]]+' Hundred')\n",
    "    except (IndexError,KeyError):\n",
    "        pass\n",
    "    \n",
    "    #This block deals with the last 2 digits\n",
    "    try:\n",
    "        parts.append(digits_to_words[num_3d[-2:]])\n",
    "    except IndexError:\n",
    "        #Here, we deal with single digit numbers and tens\n",
    "        parts.append(digits_to_words[num_3d])\n",
    "    except KeyError:\n",
    "        #Here we deal with 2-digit numbers >=20\n",
    "        try:\n",
    "            #The tens digit\n",
    "            parts.append(tens_to_words[num_3d[-2]])\n",
    "        except KeyError:\n",
    "            pass\n",
    "        try:\n",
    "            #The ones digit\n",
    "            parts.append(digits_to_words[num_3d[-1]])\n",
    "        except KeyError:\n",
    "            pass\n",
    "        pass\n",
    "    return ' '.join(parts)"
   ]
  },
  {
   "cell_type": "code",
   "execution_count": 118,
   "metadata": {},
   "outputs": [],
   "source": [
    "def get_words(num):\n",
    "    num_parts = split_digits(num)\n",
    "    #Add each 3-digit section starting from the left...\n",
    "    ans_parts = []\n",
    "    try:\n",
    "        units_part = number_to_words_3d(num_parts[-1])\n",
    "        if units_part:\n",
    "            ans_parts = [units_part] + ans_parts\n",
    "\n",
    "        #Thousands...\n",
    "        thousand_part = number_to_words_3d(num_parts[-2])\n",
    "        if thousand_part:\n",
    "            ans_parts = [thousand_part +' Thousand'] + ans_parts\n",
    "\n",
    "        #Millions\n",
    "        million_part = number_to_words_3d(num_parts[-3])\n",
    "        if million_part:\n",
    "            ans_parts = [million_part + ' Million'] + ans_parts\n",
    "\n",
    "        #Billions\n",
    "        billion_part = number_to_words_3d(num_parts[-4])\n",
    "        if billion_part:\n",
    "            ans_parts = [billion_part + ' Billion'] + ans_parts\n",
    "        \n",
    "        #Trillions\n",
    "        trillion_part = number_to_words_3d(num_parts[-5])\n",
    "        if trillion_part:\n",
    "            ans_parts = [trillion_part + ' Trillion'] + ans_parts\n",
    "    except IndexError:\n",
    "        pass\n",
    "    return ' '.join(ans_parts)"
   ]
  },
  {
   "cell_type": "markdown",
   "metadata": {},
   "source": [
    "# Solution"
   ]
  },
  {
   "cell_type": "code",
   "execution_count": 102,
   "metadata": {},
   "outputs": [
    {
     "name": "stdout",
     "output_type": "stream",
     "text": [
      "One Thousand Two Hundred Thirty Four\n",
      "Twenty Three Thousand Four Hundred Forty Five\n",
      "One Million One Hundred Ten Thousand\n",
      "Four Million Nine Hundred Ninety Nine Thousand One Hundred Two\n",
      "Two Hundred Thirty Four Thousand Two Hundred Thirty One\n"
     ]
    }
   ],
   "source": [
    "for N in N_list:\n",
    "    print(get_words(N))"
   ]
  },
  {
   "cell_type": "code",
   "execution_count": null,
   "metadata": {},
   "outputs": [],
   "source": []
  }
 ],
 "metadata": {
  "kernelspec": {
   "display_name": "Python 3",
   "language": "python",
   "name": "python3"
  },
  "language_info": {
   "codemirror_mode": {
    "name": "ipython",
    "version": 3
   },
   "file_extension": ".py",
   "mimetype": "text/x-python",
   "name": "python",
   "nbconvert_exporter": "python",
   "pygments_lexer": "ipython3",
   "version": "3.7.7"
  }
 },
 "nbformat": 4,
 "nbformat_minor": 4
}
