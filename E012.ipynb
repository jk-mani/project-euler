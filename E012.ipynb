{
 "cells": [
  {
   "cell_type": "markdown",
   "metadata": {},
   "source": [
    "![](problem_statement/E012.png)"
   ]
  },
  {
   "cell_type": "markdown",
   "metadata": {},
   "source": [
    "![](problem_statements/E012.png)"
   ]
  },
  {
   "cell_type": "markdown",
   "metadata": {},
   "source": [
    "# Input"
   ]
  },
  {
   "cell_type": "code",
   "execution_count": 1,
   "metadata": {},
   "outputs": [
    {
     "name": "stdout",
     "output_type": "stream",
     "text": [
      "10\n"
     ]
    }
   ],
   "source": [
    "T = int(input().strip())"
   ]
  },
  {
   "cell_type": "code",
   "execution_count": 2,
   "metadata": {},
   "outputs": [
    {
     "name": "stdout",
     "output_type": "stream",
     "text": [
      "10\n",
      "23\n",
      "5\n",
      "34\n",
      "250\n",
      "45\n",
      "88\n",
      "90\n",
      "11\n",
      "2\n"
     ]
    }
   ],
   "source": [
    "N_list = []\n",
    "for _ in range(T):\n",
    "    N_list.append(int(input().strip()))"
   ]
  },
  {
   "cell_type": "markdown",
   "metadata": {},
   "source": [
    "# Steps\n",
    "\n",
    "We know that any triangle number will be of the form $N(N+1)/2$. In order to factorize this number, find all the prime factors of $N$ and $N+1$, and the corresponding exponents. So write a definition to factorize any number."
   ]
  },
  {
   "cell_type": "code",
   "execution_count": 40,
   "metadata": {},
   "outputs": [],
   "source": [
    "from collections import Counter\n",
    "def get_prime_factors(n):\n",
    "    factor_counter = Counter()\n",
    "    j = 2\n",
    "    while n > 1:\n",
    "        for i in range(j, int(n**0.5) + 1):\n",
    "            if n % i == 0:\n",
    "                n /= i\n",
    "                j = i\n",
    "                factor_counter[i] += 1\n",
    "                break\n",
    "        else:\n",
    "            if n > 1:\n",
    "                factor_counter[int(n)] += 1\n",
    "                break\n",
    "    return factor_counter"
   ]
  },
  {
   "cell_type": "code",
   "execution_count": 48,
   "metadata": {},
   "outputs": [],
   "source": [
    "#Definition to get the number of factors of a triangle number...\n",
    "def get_num_factors(num):\n",
    "    counter = get_prime_factors(num) + get_prime_factors(num+1)\n",
    "    #Divide by 2...\n",
    "    counter[2] -= 1\n",
    "    #Now the number of ways to choose the exponents...\n",
    "    num_factors = 1\n",
    "    for i in counter:\n",
    "        num_factors *= (counter[i]+1)\n",
    "    return num_factors"
   ]
  },
  {
   "cell_type": "code",
   "execution_count": 66,
   "metadata": {},
   "outputs": [],
   "source": [
    "def get_trinum_with_factors_gt(N,n = 0):\n",
    "    \"Function to get smallest triangle number with more than N divisors\"\n",
    "    num_factors = 1\n",
    "    while num_factors<=N:\n",
    "        n += 1\n",
    "        num_factors = get_num_factors(n)\n",
    "    return (n*(n+1))//2"
   ]
  },
  {
   "cell_type": "markdown",
   "metadata": {},
   "source": [
    "# Unoptimized Solution"
   ]
  },
  {
   "cell_type": "code",
   "execution_count": 61,
   "metadata": {},
   "outputs": [
    {
     "data": {
      "text/plain": [
       "'\\nfor N in N_list:\\n    print(get_trinum_with_factors_gt(N))\\n'"
      ]
     },
     "execution_count": 61,
     "metadata": {},
     "output_type": "execute_result"
    }
   ],
   "source": [
    "'''\n",
    "for N in N_list:\n",
    "    print(get_trinum_with_factors_gt(N))\n",
    "'''"
   ]
  },
  {
   "cell_type": "markdown",
   "metadata": {},
   "source": [
    "# Optimized Solution\n",
    "As we don't need to search from $n=0$ for each $N$ in *N_list*, let's sort them in ascending order and keep a track of $n$, so that the next time we start from that $n$, not from $n=0$"
   ]
  },
  {
   "cell_type": "code",
   "execution_count": 62,
   "metadata": {},
   "outputs": [],
   "source": [
    "sorted_N_list = sorted(N_list)"
   ]
  },
  {
   "cell_type": "code",
   "execution_count": 63,
   "metadata": {},
   "outputs": [],
   "source": [
    "args = sorted(list(range(T)),key = lambda x:N_list[x])\n",
    "#Check whether args takes you from N_list to N_list_sorted...\n",
    "assert sorted_N_list==[N_list[i] for i in args]"
   ]
  },
  {
   "cell_type": "code",
   "execution_count": 64,
   "metadata": {},
   "outputs": [],
   "source": [
    "inv_args = sorted(list(range(T)),key = lambda x:args[x])\n",
    "#Check that inv_args taakes you from sorted_N_list to N_list\n",
    "assert N_list == [sorted_N_list[i] for i in inv_args]"
   ]
  },
  {
   "cell_type": "code",
   "execution_count": 70,
   "metadata": {},
   "outputs": [],
   "source": [
    "sorted_ans = []\n",
    "current_n = 0\n",
    "for N in sorted_N_list:\n",
    "    sorted_ans.append(get_trinum_with_factors_gt(N,current_n))\n",
    "    #Now, update current_n\n",
    "    current_n = int((sorted_ans[-1]*2)**0.5)-1"
   ]
  },
  {
   "cell_type": "code",
   "execution_count": 68,
   "metadata": {},
   "outputs": [],
   "source": [
    "ans = [sorted_ans[i] for i in inv_args]"
   ]
  },
  {
   "cell_type": "code",
   "execution_count": 69,
   "metadata": {},
   "outputs": [
    {
     "name": "stdout",
     "output_type": "stream",
     "text": [
      "120\n",
      "630\n",
      "28\n",
      "2016\n",
      "2162160\n",
      "5460\n",
      "25200\n",
      "73920\n",
      "210\n",
      "6\n"
     ]
    }
   ],
   "source": [
    "for i in range(T):\n",
    "    print(ans[i])"
   ]
  },
  {
   "cell_type": "code",
   "execution_count": null,
   "metadata": {},
   "outputs": [],
   "source": []
  }
 ],
 "metadata": {
  "kernelspec": {
   "display_name": "Python 3",
   "language": "python",
   "name": "python3"
  },
  "language_info": {
   "codemirror_mode": {
    "name": "ipython",
    "version": 3
   },
   "file_extension": ".py",
   "mimetype": "text/x-python",
   "name": "python",
   "nbconvert_exporter": "python",
   "pygments_lexer": "ipython3",
   "version": "3.7.7"
  }
 },
 "nbformat": 4,
 "nbformat_minor": 4
}
