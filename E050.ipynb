{
 "cells": [
  {
   "cell_type": "markdown",
   "metadata": {},
   "source": [
    "![](problem_statements/E050.png)"
   ]
  },
  {
   "cell_type": "markdown",
   "metadata": {},
   "source": [
    "# Input"
   ]
  },
  {
   "cell_type": "code",
   "execution_count": 1,
   "metadata": {},
   "outputs": [
    {
     "name": "stdout",
     "output_type": "stream",
     "text": [
      "2\n"
     ]
    }
   ],
   "source": [
    "T = int(input().strip())"
   ]
  },
  {
   "cell_type": "code",
   "execution_count": 2,
   "metadata": {},
   "outputs": [
    {
     "name": "stdout",
     "output_type": "stream",
     "text": [
      "100\n",
      "1000\n"
     ]
    }
   ],
   "source": [
    "N_list = []\n",
    "for _ in range(T):\n",
    "    N_list.append(int(input().strip()))"
   ]
  },
  {
   "cell_type": "markdown",
   "metadata": {},
   "source": [
    "# Steps\n",
    "\n",
    "The problem will first require a quick primality testing algorithm, so first generate all the primes <= $10^7$, then write a code to test for the numbers >$10^7$."
   ]
  },
  {
   "cell_type": "code",
   "execution_count": 3,
   "metadata": {},
   "outputs": [],
   "source": [
    "def get_primes(num):\n",
    "    \"Return a list of all primes <= N\"\n",
    "    \n",
    "    #Start with the initialization of all numbers from 1 to num as prime=True\n",
    "    prime = [True if i>=2 else False for i in range(num + 1)]\n",
    "    \n",
    "    #Now, run a index from 2 to sqrt(num)\n",
    "    i = 2\n",
    "    while i*i<=num:\n",
    "        #If i is prime, all multiples of i which are <=num will be composite...\n",
    "        if prime[i]:\n",
    "            for j in range(i*2,num+1,i):\n",
    "                prime[j]=False\n",
    "        i+=1\n",
    "    #Now, list all the primes - i.e. all n such that prime[n]==True\n",
    "    ans = []\n",
    "    for i in range(num+1):\n",
    "        if prime[i]:\n",
    "            ans.append(i)\n",
    "    return ans"
   ]
  },
  {
   "cell_type": "code",
   "execution_count": 4,
   "metadata": {},
   "outputs": [],
   "source": [
    "primes_list = get_primes(10**7)"
   ]
  },
  {
   "cell_type": "markdown",
   "metadata": {},
   "source": [
    "We now have a complete list of primes <=$10^7$. It is unlikely we will need primes higher than this as the sum of this list $\\approx 3 \\times 10^{12}$, which is larger than the maximum $N$. But we will need to test for the primality of the sums, so write a function *check_prime* to test if a number is prime."
   ]
  },
  {
   "cell_type": "code",
   "execution_count": 5,
   "metadata": {},
   "outputs": [],
   "source": [
    "def check_prime(num):\n",
    "    if num<=10**7:\n",
    "        return num in primes_list\n",
    "    elif num<=10**14:\n",
    "        for p in primes_list:\n",
    "            if num%p==0:\n",
    "                flag=False\n",
    "                break\n",
    "        else:\n",
    "            flag=True\n",
    "        return flag\n",
    "    else:\n",
    "        return None"
   ]
  },
  {
   "cell_type": "markdown",
   "metadata": {},
   "source": [
    "Our goal is to find the sequence of primes of maximum length which satisfy two conditions:\n",
    "\n",
    "1. They must sum to <=$N$\n",
    "2. That sum must be prime\n",
    "\n",
    "First  we propose partial solutions by considering only criterion 1. Since we want the sequence to be of maximum length, we'd like the elements in the sequence to be as small as possible. So first, create a sequence starting with $2$, and summing to <=$N$. This is the first partial solution. Suppose the maximum prime in this sequence is $p_i$, we can then start considering sequences including $p_{i+1}$ and higher, shaving off elements at the lower end to keeping the sum <=$N$. These become the second partial solution,and so on. Note that the second partial solution will always be shorter in length than the first - so why consider it? Because in step 2, we will apply primality tests, on these and their sub-sets, so that can change the final length of the complete solutions.\n",
    "\n",
    "Let's write a generator to yield these proposed partial solutions."
   ]
  },
  {
   "cell_type": "code",
   "execution_count": 6,
   "metadata": {},
   "outputs": [],
   "source": [
    "def get_partial_solutions(num):\n",
    "    start = 0\n",
    "    end = 1\n",
    "    S = primes_list[start]\n",
    "    #First find the end, which has sum(prime_list(start:end))\n",
    "    while S + primes_list[end]<=num:\n",
    "        S += primes_list[end]\n",
    "        end += 1\n",
    "        \n",
    "    yield primes_list[start:end],S\n",
    "    \n",
    "    #Now, we keep incrementing end, and correspondingly start...\n",
    "    while end+1<len(primes_list):\n",
    "        S += primes_list[end]\n",
    "        end += 1\n",
    "        while S>num:\n",
    "            S -= primes_list[start]\n",
    "            start+=1\n",
    "        yield primes_list[start:end],S"
   ]
  },
  {
   "cell_type": "markdown",
   "metadata": {},
   "source": [
    "Now, for a given partial solution, write a definition to search it's contiguous subsets to check condition 2. Take the partial solution:\n",
    "\n",
    "$2+3+5+7+ \\ldots +p_{n-1}+p_n$\n",
    "\n",
    "Check it's primality - if it is prime, we have a complete solution. If not take two subsets\n",
    "\n",
    "$[2+3+5+7+ \\ldots +p_{n-1}]$\n",
    "and\n",
    "$[3+5+7+ \\ldots + p_n]$\n",
    "\n",
    "and check the primality of each, in the specified order. Once we get a prime, return it's value and sequence length. If neither adds to a prime, take smaller subsets, and so on."
   ]
  },
  {
   "cell_type": "code",
   "execution_count": 7,
   "metadata": {},
   "outputs": [],
   "source": [
    "def get_complete_solution(partial_solution,S):\n",
    "    \"To search the contgiguous subsets of partial_solution that will sum to a prime\"\n",
    "    L = len(partial_solution)\n",
    "    #We start dropping terms from either side, until the sum is prime...\n",
    "    for terms_to_drop in range(L):\n",
    "        #Scan from left to right...\n",
    "        for start,end in zip(range(0,terms_to_drop+1),range(L-terms_to_drop,L+1)):\n",
    "            S_trunc = S - sum(partial_solution[:start]) - sum(partial_solution[end:])\n",
    "            L_trunc = L - terms_to_drop\n",
    "            if check_prime(S_trunc):\n",
    "                return S_trunc,L_trunc"
   ]
  },
  {
   "cell_type": "markdown",
   "metadata": {},
   "source": [
    "# Solution\n",
    "\n",
    "Run a generator on *get_partial_solutions*, and for each partial solution, run *get_complete_solution*. Once we have a comlplete solution that is longer than the next partial solution, we can stop the generator. Now among the list of complete solutions, select the longest, and that is our answer."
   ]
  },
  {
   "cell_type": "code",
   "execution_count": 8,
   "metadata": {},
   "outputs": [
    {
     "name": "stdout",
     "output_type": "stream",
     "text": [
      "41 6\n",
      "953 21\n"
     ]
    }
   ],
   "source": [
    "for N in N_list:\n",
    "    solution_set = []\n",
    "    partial_solutions_generator = get_partial_solutions(N)\n",
    "    #Take the first partial solution..., and get the corresponding complete solution\n",
    "    solution_set.append(get_complete_solution(*next(partial_solutions_generator)))\n",
    "    \n",
    "    #Next partial solution\n",
    "    ps,S = next(partial_solutions_generator)\n",
    "    while solution_set[-1][1]<len(ps):\n",
    "        solution_set.append(get_complete_solution(ps,S))\n",
    "        ps,S = next(partial_solutions_generator)\n",
    "        \n",
    "    ans = max(solution_set,key = lambda x:x[1])\n",
    "    print(*ans)"
   ]
  },
  {
   "cell_type": "code",
   "execution_count": null,
   "metadata": {},
   "outputs": [],
   "source": []
  }
 ],
 "metadata": {
  "kernelspec": {
   "display_name": "Python 3",
   "language": "python",
   "name": "python3"
  },
  "language_info": {
   "codemirror_mode": {
    "name": "ipython",
    "version": 3
   },
   "file_extension": ".py",
   "mimetype": "text/x-python",
   "name": "python",
   "nbconvert_exporter": "python",
   "pygments_lexer": "ipython3",
   "version": "3.7.7"
  }
 },
 "nbformat": 4,
 "nbformat_minor": 4
}
