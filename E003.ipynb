{
 "cells": [
  {
   "cell_type": "markdown",
   "metadata": {},
   "source": [
    "![](problem_statements/E003.png)"
   ]
  },
  {
   "cell_type": "markdown",
   "metadata": {},
   "source": [
    "# Input"
   ]
  },
  {
   "cell_type": "code",
   "execution_count": 1,
   "metadata": {},
   "outputs": [
    {
     "name": "stdout",
     "output_type": "stream",
     "text": [
      "10\n"
     ]
    }
   ],
   "source": [
    "T = int(input().strip())"
   ]
  },
  {
   "cell_type": "code",
   "execution_count": 2,
   "metadata": {},
   "outputs": [
    {
     "name": "stdout",
     "output_type": "stream",
     "text": [
      "123456789\n",
      "1235678910\n",
      "98765432123\n",
      "13491243021\n",
      "2193480239\n",
      "11239103432\n",
      "23942034224\n",
      "3495349531\n",
      "342343450012\n",
      "10000000000\n"
     ]
    }
   ],
   "source": [
    "N_list = []\n",
    "for _ in range(T):\n",
    "    N_list.append(int(input().strip()))"
   ]
  },
  {
   "cell_type": "markdown",
   "metadata": {},
   "source": [
    "# Steps\n",
    "\n",
    "For a given number $N$, if it is factorizable, it must have a factor <=$\\sqrt{N}$. So run a loop from $2$ to $\\sqrt{N}$, checking for divisibility. If it's divisible by a particular prime number $p$, divide by $p$, and update $N$ to $N/p$, and so on..., ultimately we will work up to the largest prime factor of $N$."
   ]
  },
  {
   "cell_type": "code",
   "execution_count": 20,
   "metadata": {},
   "outputs": [],
   "source": [
    "def get_largest_prime_factor(num):\n",
    "    \"Function to return the list of all thhe prime factors of num\"\n",
    "    n = num\n",
    "    \n",
    "    #First run the loop separately for num=2\n",
    "    while n%2==0:\n",
    "        ans = 2\n",
    "        n = n//2\n",
    "    \n",
    "    #Now, search from 3 to sqrt(num), and we can keep only odd numbers...\n",
    "    for i in range(3,int(num**0.5)+1,2):\n",
    "        if i>n:\n",
    "            break\n",
    "        while n%i==0:\n",
    "            ans = i\n",
    "            n = n//i\n",
    "    \n",
    "    if n==num:\n",
    "        return num\n",
    "    else:\n",
    "        return max(ans,n)"
   ]
  },
  {
   "cell_type": "markdown",
   "metadata": {},
   "source": [
    "# Solution"
   ]
  },
  {
   "cell_type": "code",
   "execution_count": 4,
   "metadata": {},
   "outputs": [
    {
     "name": "stdout",
     "output_type": "stream",
     "text": [
      "3803\n",
      "1409\n",
      "1447\n",
      "24967\n",
      "19417\n",
      "2\n",
      "673\n",
      "3495349531\n",
      "37\n",
      "5\n"
     ]
    }
   ],
   "source": [
    "for N in N_list:\n",
    "    print(get_largest_prime_factor(N))"
   ]
  },
  {
   "cell_type": "code",
   "execution_count": null,
   "metadata": {},
   "outputs": [],
   "source": []
  }
 ],
 "metadata": {
  "kernelspec": {
   "display_name": "Python 3",
   "language": "python",
   "name": "python3"
  },
  "language_info": {
   "codemirror_mode": {
    "name": "ipython",
    "version": 3
   },
   "file_extension": ".py",
   "mimetype": "text/x-python",
   "name": "python",
   "nbconvert_exporter": "python",
   "pygments_lexer": "ipython3",
   "version": "3.7.7"
  }
 },
 "nbformat": 4,
 "nbformat_minor": 4
}
