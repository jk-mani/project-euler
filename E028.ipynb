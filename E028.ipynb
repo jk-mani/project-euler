{
 "cells": [
  {
   "cell_type": "markdown",
   "metadata": {},
   "source": [
    "![](problem_statements/E028.png)"
   ]
  },
  {
   "cell_type": "markdown",
   "metadata": {},
   "source": [
    "# Input"
   ]
  },
  {
   "cell_type": "code",
   "execution_count": 1,
   "metadata": {},
   "outputs": [
    {
     "name": "stdout",
     "output_type": "stream",
     "text": [
      "2\n"
     ]
    }
   ],
   "source": [
    "T = int(input().strip())"
   ]
  },
  {
   "cell_type": "code",
   "execution_count": 43,
   "metadata": {},
   "outputs": [
    {
     "name": "stdout",
     "output_type": "stream",
     "text": [
      "3\n",
      "5\n"
     ]
    }
   ],
   "source": [
    "N_list = []\n",
    "for _ in range(T):\n",
    "    N = int(input().strip())\n",
    "    N_list.append(N)"
   ]
  },
  {
   "cell_type": "markdown",
   "metadata": {},
   "source": [
    "# Steps\n",
    " First, determine the number of numbers in each round. Given $n$, the side of the square, we will reach it in round $r = (n-1)//2$.\n",
    " \n",
    "$n = 2r+1$.\n",
    "\n",
    "The number of numbers in round $r$, is \n",
    "\n",
    "$2n + 2(n-2) = 8r$.\n",
    "\n",
    "Within the $r^{\\text{th}}$ round, we calculate the four diagonal points.\n",
    "\n",
    "1. The **bottom right** is the $n-1^{\\text{th}}$ element in round $r$.\n",
    "2. The **bottom left** is the $2n-1^{\\text{th}}$,\n",
    "3. The **top left** is the $3n-1^{\\text{th}}$,\n",
    "4. The **top right** is the $4n-1^{\\text{th}}$.\n",
    "\n",
    "The following unoptimized solution is easily determined..."
   ]
  },
  {
   "cell_type": "raw",
   "metadata": {},
   "source": [
    "'''\n",
    "n = 3\n",
    "top_right = 1\n",
    "diagonal_sum = {1:1}\n",
    "while n<=max(n_list):\n",
    "    bottom_right = top_right + (n-1)\n",
    "    bottom_left = bottom_right + (n-1)\n",
    "    top_left = bottom_left + (n-1)\n",
    "    top_right = top_left + (n-1)\n",
    "    #Update diagonal sum...\n",
    "    diagonal_sum = bottom_right + bottom_left + top_left + top_right\n",
    "    n += 2\n",
    "'''"
   ]
  },
  {
   "cell_type": "markdown",
   "metadata": {},
   "source": [
    "But we can do better! We can write an analytic formula for the four corners...\n",
    "\n",
    "$\\text{bottom_right} = \\sum_{n\\in \\text{ odd}}^{N} (n-2)^2 + (n-1) = \\sum_{r=1}^{(N-1)/2} (2r-1)^2 + 2r = \n",
    "\\sum_{r=1}^{(N-1)/2} (4r^2 - 2r + 1)$\n",
    "\n",
    "$\\text{bottom_left} =\\sum_{n\\in \\text{ odd}}^{N} (n-2)^2 + 2(n-1) = \\sum_{r=1}^{(N-1)/2} (2r-1)^2 + 4r = \n",
    "\\sum_{r=1}^{(N-1)/2} (4r^2 + 1)$\n",
    "\n",
    "$\\text{top_left} =\\sum_{n\\in \\text{ odd}}^{N} (n-2)^2 + 3(n-1) = \\sum_{r=1}^{(N-1)/2} (2r-1)^2 + 6r = \n",
    "\\sum_{r=1}^{(N-1)/2} (4r^2 + 2r + 1)$\n",
    "\n",
    "$\\text{top_right} =\\sum_{n\\in \\text{ odd}}^{N} (n-2)^2 + 4(n-1) = \\sum_{r=1}^{(N-1)/2} (2r-1)^2 + 8r = \n",
    "\\sum_{r=1}^{(N-1)/2} (4r^2 + 4r + 1)$\n",
    "\n",
    "Let's add all four, and the middle number $1$...\n",
    "\n",
    "$S = 1 + 4\\sum_{r=1}^{(N-1)/2} (4r^2 + r + 1)$\n",
    "\n",
    "If $P = (N-1)/2$,\n",
    "\n",
    "$S = 1 + \\frac{8P(P+1)(2P+1)}{3} + 2P(P+1) + 4P$\n",
    "\n",
    "$ = 1 + \\frac{2}{3}(N-1)N(N+1) + 3(N-1) + \\frac{1}{2}(N-1)^2$"
   ]
  },
  {
   "cell_type": "code",
   "execution_count": 54,
   "metadata": {},
   "outputs": [],
   "source": [
    "#Function to return solution for num, return modulo 10**9+7\n",
    "def get_solution(num):\n",
    "    ans = 1 + 2*(num-1)*num*(num+1)//3 + 3*(num-1) + (num-1)**2//2\n",
    "    return ans % (10**9+7)"
   ]
  },
  {
   "cell_type": "markdown",
   "metadata": {},
   "source": [
    "# Solution"
   ]
  },
  {
   "cell_type": "code",
   "execution_count": 55,
   "metadata": {},
   "outputs": [
    {
     "name": "stdout",
     "output_type": "stream",
     "text": [
      "25\n",
      "101\n"
     ]
    }
   ],
   "source": [
    "for N in N_list:\n",
    "    print(get_solution(N))"
   ]
  },
  {
   "cell_type": "code",
   "execution_count": null,
   "metadata": {},
   "outputs": [],
   "source": []
  }
 ],
 "metadata": {
  "kernelspec": {
   "display_name": "Python 3",
   "language": "python",
   "name": "python3"
  },
  "language_info": {
   "codemirror_mode": {
    "name": "ipython",
    "version": 3
   },
   "file_extension": ".py",
   "mimetype": "text/x-python",
   "name": "python",
   "nbconvert_exporter": "python",
   "pygments_lexer": "ipython3",
   "version": "3.7.7"
  }
 },
 "nbformat": 4,
 "nbformat_minor": 4
}
